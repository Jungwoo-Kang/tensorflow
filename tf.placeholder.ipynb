{
 "cells": [
  {
   "cell_type": "code",
   "execution_count": 1,
   "metadata": {},
   "outputs": [],
   "source": [
    "import tensorflow as tf"
   ]
  },
  {
   "cell_type": "code",
   "execution_count": 2,
   "metadata": {},
   "outputs": [
    {
     "name": "stdout",
     "output_type": "stream",
     "text": [
      "1.14.0\n",
      "1.14.0\n"
     ]
    }
   ],
   "source": [
    "print(tf.VERSION)\n",
    "print(tf.__version__)"
   ]
  },
  {
   "cell_type": "code",
   "execution_count": 1,
   "metadata": {},
   "outputs": [
    {
     "name": "stdout",
     "output_type": "stream",
     "text": [
      "Tensor(\"Const:0\", shape=(), dtype=int32)\n",
      "Tensor(\"Const_1:0\", shape=(), dtype=int32)\n",
      "Tensor(\"add:0\", shape=(), dtype=int32)\n",
      "1 1 2\n"
     ]
    }
   ],
   "source": [
    "import tensorflow as tf\n",
    "\n",
    "a = tf.constant(1)\n",
    "b = tf.constant(1)\n",
    "c = a + b\n",
    "\n",
    "print(a) # Tensor(\"Const:0\", shape=(), dtype=int32)\n",
    "print(b) # Tensor(\"Const_1:0\", shape=(), dtype=int32)\n",
    "print(c) # Tensor(\"add:0\", shape=(), dtype=int32)\n",
    "\n",
    "with tf.Session() as sess:\n",
    "    a_run, b_run, c_run = sess.run([a, b, c])\n",
    "    print(a_run, b_run, c_run) # 1, 1, 2"
   ]
  },
  {
   "cell_type": "code",
   "execution_count": 1,
   "metadata": {},
   "outputs": [
    {
     "data": {
      "image/png": "[encoded data removed]",
      "text/plain": [
       "<Figure size 432x288 with 1 Axes>"
      ]
     },
     "metadata": {
      "needs_background": "light"
     },
     "output_type": "display_data"
    }
   ],
   "source": [
    "%matplotlib inline\n",
    "import tensorflow as tf\n",
    "import matplotlib.pyplot as plt\n",
    "\n",
    "n = 10000\n",
    "a = tf.random.normal((n,))\n",
    "\n",
    "with tf.Session() as sess:\n",
    "    a_run = sess.run(a)\n",
    "    \n",
    "plt.hist(a_run)\n",
    "plt.show()"
   ]
  },
  {
   "cell_type": "code",
   "execution_count": 1,
   "metadata": {},
   "outputs": [
    {
     "name": "stdout",
     "output_type": "stream",
     "text": [
      "[[1.]\n",
      " [2.]\n",
      " [3.]\n",
      " [4.]]\n"
     ]
    }
   ],
   "source": [
    "import tensorflow as tf\n",
    "import numpy as np\n",
    "\n",
    "x_data = np.array([[1.],[2.],[3.],[4.]]).astype(np.float32) # (4,1)\n",
    "# y_data = np.array([1.,2.,3.,4.]).astype(np.float32) # (4,)\n",
    "\n",
    "x = tf.placeholder(tf.float32, shape=(None,1)) # (4,1)\n",
    "y = tf.placeholder(tf.float32, shape=(None,)) # (4,)\n",
    "\n",
    "alpha = tf.get_variable('alpha', (), dtype=tf.float32, initializer=tf.zeros_initializer)\n",
    "beta = tf.get_variable('beta', (), dtype=tf.float32, initializer=tf.ones_initializer)\n",
    "\n",
    "y_pred = alpha + beta * x\n",
    "\n",
    "with tf.Session() as sess:\n",
    "    \n",
    "    tf.global_variables_initializer().run()\n",
    "    \n",
    "    feed_dict = {x:x_data}\n",
    "    y_pred_run = sess.run(y_pred, feed_dict=feed_dict)\n",
    "    print(y_pred_run) "
   ]
  },
  {
   "cell_type": "code",
   "execution_count": null,
   "metadata": {},
   "outputs": [],
   "source": []
  }
 ],
 "metadata": {
  "kernelspec": {
   "display_name": "Python [conda env:root] *",
   "language": "python",
   "name": "conda-root-py"
  },
  "language_info": {
   "codemirror_mode": {
    "name": "ipython",
    "version": 3
   },
   "file_extension": ".py",
   "mimetype": "text/x-python",
   "name": "python",
   "nbconvert_exporter": "python",
   "pygments_lexer": "ipython3",
   "version": "3.7.3"
  }
 },
 "nbformat": 4,
 "nbformat_minor": 2
}
