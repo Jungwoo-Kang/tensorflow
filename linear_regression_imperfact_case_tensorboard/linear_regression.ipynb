{
 "cells": [
  {
   "cell_type": "code",
   "execution_count": 1,
   "metadata": {},
   "outputs": [
    {
     "name": "stderr",
     "output_type": "stream",
     "text": [
      "/Users/sungchullee/opt/anaconda3/envs/gym/lib/python3.7/site-packages/tensorflow/python/framework/dtypes.py:526: FutureWarning: Passing (type, 1) or '1type' as a synonym of type is deprecated; in a future version of numpy, it will be understood as (type, (1,)) / '(1,)type'.\n",
      "  _np_qint8 = np.dtype([(\"qint8\", np.int8, 1)])\n",
      "/Users/sungchullee/opt/anaconda3/envs/gym/lib/python3.7/site-packages/tensorflow/python/framework/dtypes.py:527: FutureWarning: Passing (type, 1) or '1type' as a synonym of type is deprecated; in a future version of numpy, it will be understood as (type, (1,)) / '(1,)type'.\n",
      "  _np_quint8 = np.dtype([(\"quint8\", np.uint8, 1)])\n",
      "/Users/sungchullee/opt/anaconda3/envs/gym/lib/python3.7/site-packages/tensorflow/python/framework/dtypes.py:528: FutureWarning: Passing (type, 1) or '1type' as a synonym of type is deprecated; in a future version of numpy, it will be understood as (type, (1,)) / '(1,)type'.\n",
      "  _np_qint16 = np.dtype([(\"qint16\", np.int16, 1)])\n",
      "/Users/sungchullee/opt/anaconda3/envs/gym/lib/python3.7/site-packages/tensorflow/python/framework/dtypes.py:529: FutureWarning: Passing (type, 1) or '1type' as a synonym of type is deprecated; in a future version of numpy, it will be understood as (type, (1,)) / '(1,)type'.\n",
      "  _np_quint16 = np.dtype([(\"quint16\", np.uint16, 1)])\n",
      "/Users/sungchullee/opt/anaconda3/envs/gym/lib/python3.7/site-packages/tensorflow/python/framework/dtypes.py:530: FutureWarning: Passing (type, 1) or '1type' as a synonym of type is deprecated; in a future version of numpy, it will be understood as (type, (1,)) / '(1,)type'.\n",
      "  _np_qint32 = np.dtype([(\"qint32\", np.int32, 1)])\n",
      "/Users/sungchullee/opt/anaconda3/envs/gym/lib/python3.7/site-packages/tensorflow/python/framework/dtypes.py:535: FutureWarning: Passing (type, 1) or '1type' as a synonym of type is deprecated; in a future version of numpy, it will be understood as (type, (1,)) / '(1,)type'.\n",
      "  np_resource = np.dtype([(\"resource\", np.ubyte, 1)])\n"
     ]
    },
    {
     "name": "stdout",
     "output_type": "stream",
     "text": [
      "WARNING:tensorflow:From /Users/sungchullee/opt/anaconda3/envs/gym/lib/python3.7/site-packages/tensorflow/python/framework/op_def_library.py:263: colocate_with (from tensorflow.python.framework.ops) is deprecated and will be removed in a future version.\n",
      "Instructions for updating:\n",
      "Colocations handled automatically by placer.\n"
     ]
    },
    {
     "data": {
      "image/png": "[encoded data removed]",
      "text/plain": [
       "<Figure size 432x288 with 3 Axes>"
      ]
     },
     "metadata": {
      "needs_background": "light"
     },
     "output_type": "display_data"
    },
    {
     "data": {
      "image/png": "[encoded data removed]",
      "text/plain": [
       "<Figure size 432x288 with 1 Axes>"
      ]
     },
     "metadata": {
      "needs_background": "light"
     },
     "output_type": "display_data"
    }
   ],
   "source": [
    "%matplotlib inline\n",
    "import tensorflow as tf\n",
    "import numpy as np\n",
    "import matplotlib.pyplot as plt\n",
    "\n",
    "np.random.seed(0)\n",
    "tf.set_random_seed(0)\n",
    "\n",
    "lr = 1e-2\n",
    "epoch = int(1e2)\n",
    "\n",
    "x_data = np.linspace(-1,1).astype(np.float32).reshape((-1,1)) # (50,1)\n",
    "y_data = (1.+2.*x_data+0.7*np.random.normal(size=x_data.shape)).astype(np.float32) # (50,1)\n",
    "\n",
    "x = tf.placeholder(tf.float32, shape=(None,1)) # (50,1)\n",
    "y = tf.placeholder(tf.float32, shape=(None,1)) # (50,1)\n",
    "\n",
    "if 0:\n",
    "    alpha = tf.get_variable('alpha', (), dtype=tf.float32, initializer=tf.keras.initializers.constant(0.0))\n",
    "    beta = tf.get_variable('beta', (1,1), dtype=tf.float32, initializer=tf.keras.initializers.constant(1.0))\n",
    "elif 1:\n",
    "    alpha = tf.get_variable('alpha', (), dtype=tf.float32, initializer=tf.keras.initializers.constant(0.5))\n",
    "    beta = tf.get_variable('beta', (1,1), dtype=tf.float32, initializer=tf.keras.initializers.constant(0.5))\n",
    "elif 0:\n",
    "    alpha = tf.get_variable('alpha', (), dtype=tf.float32, initializer=tf.keras.initializers.constant(0.0))\n",
    "    beta = tf.get_variable('beta', (1,1), dtype=tf.float32, initializer=tf.keras.initializers.RandomUniform())\n",
    "elif 1:\n",
    "    alpha = tf.get_variable('alpha', (), dtype=tf.float32, initializer=tf.keras.initializers.constant(0.0))\n",
    "    beta = tf.get_variable('beta', (1,1), dtype=tf.float32, initializer=tf.keras.initializers.RandomNormal())\n",
    "\n",
    "y_pred = alpha + x @ beta\n",
    "loss = tf.nn.l2_loss(y-y_pred)\n",
    "train = tf.train.GradientDescentOptimizer(learning_rate=lr).minimize(loss)\n",
    "\n",
    "tf.summary.scalar('alpha', alpha)\n",
    "tf.summary.scalar('loss', loss)\n",
    "tf.summary.histogram('beta', beta)\n",
    "merged = tf.summary.merge_all()\n",
    "\n",
    "with tf.Session() as sess:\n",
    "    \n",
    "    tf.global_variables_initializer().run()\n",
    "    \n",
    "    log_dir = \"temp/logfiles\" \n",
    "    writer = tf.summary.FileWriter(log_dir, sess.graph) \n",
    "    # 이 코드를 돌린 후, 다음 스텝을 통하여 텐서보드를 열 수 있다.\n",
    "    # 터미널을 이용 LOG_DIR로 이동\n",
    "    # $ tensorboard --logdir=./\n",
    "    # 크롬 주소창에 다음을 입력하고 엔터: http://localhost:6006/\n",
    "    \n",
    "    alpha_trace = []\n",
    "    beta_trace = []\n",
    "    loss_trace = []\n",
    "    \n",
    "    feed_dict = {x:x_data, y:y_data}\n",
    "    for i in range(epoch):\n",
    "        if i == 0:\n",
    "            alpha_run, beta_run, loss_run, merged_run = sess.run([alpha, beta, loss, merged], feed_dict=feed_dict)\n",
    "        else:\n",
    "            alpha_run, beta_run, loss_run, merged_run, _ = sess.run([alpha, beta, loss, merged, train], feed_dict=feed_dict)\n",
    "        alpha_trace.append(alpha_run)\n",
    "        beta_trace.append(beta_run[0,0])\n",
    "        loss_trace.append(loss_run)  \n",
    "        writer.add_summary(merged_run, i)\n",
    "    y_pred_run = sess.run(y_pred, feed_dict=feed_dict)\n",
    "\n",
    "\n",
    "fig, (ax1, ax2, ax3) = plt.subplots(1, 3)\n",
    "ax1.plot(alpha_trace)\n",
    "ax1.set_xlabel('epoch')\n",
    "ax1.set_title('alpha')\n",
    "ax2.plot(beta_trace)\n",
    "ax2.set_xlabel('epoch')\n",
    "ax2.set_title('beta')\n",
    "ax3.plot(loss_trace)\n",
    "ax3.set_xlabel('epoch')\n",
    "ax3.set_title('loss')\n",
    "plt.tight_layout()\n",
    "plt.show()\n",
    "\n",
    "fig, ax = plt.subplots(1, 1)\n",
    "ax.plot(x_data.reshape((-1,)), y_data.reshape((-1,)), 'o')\n",
    "ax.plot(x_data.reshape((-1,)), y_pred_run.reshape((-1,)))\n",
    "plt.show()"
   ]
  },
  {
   "cell_type": "code",
   "execution_count": null,
   "metadata": {},
   "outputs": [],
   "source": []
  },
  {
   "cell_type": "code",
   "execution_count": null,
   "metadata": {},
   "outputs": [],
   "source": []
  }
 ],
 "metadata": {
  "kernelspec": {
   "display_name": "Python [conda env:gym]",
   "language": "python",
   "name": "conda-env-gym-py"
  },
  "language_info": {
   "codemirror_mode": {
    "name": "ipython",
    "version": 3
   },
   "file_extension": ".py",
   "mimetype": "text/x-python",
   "name": "python",
   "nbconvert_exporter": "python",
   "pygments_lexer": "ipython3",
   "version": "3.7.4"
  }
 },
 "nbformat": 4,
 "nbformat_minor": 2
}
