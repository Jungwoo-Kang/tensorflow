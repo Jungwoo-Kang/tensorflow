{
 "cells": [
  {
   "cell_type": "code",
   "execution_count": 8,
   "metadata": {},
   "outputs": [
    {
     "name": "stdout",
     "output_type": "stream",
     "text": [
      "True\n",
      "<class 'bool'>\n"
     ]
    }
   ],
   "source": [
    "if 0:\n",
    "    x = int(3.7)\n",
    "elif 0:\n",
    "    x = float(3)\n",
    "elif 1:\n",
    "    x = bool(3)\n",
    "    \n",
    "print(x)\n",
    "print(type(x))"
   ]
  },
  {
   "cell_type": "code",
   "execution_count": 14,
   "metadata": {},
   "outputs": [
    {
     "name": "stdout",
     "output_type": "stream",
     "text": [
      "[[1 2 3]\n",
      " [4 5 6]]\n",
      "int32\n"
     ]
    }
   ],
   "source": [
    "import numpy as np\n",
    "\n",
    "if 0:\n",
    "    #x = float(np.array([[1,2,3], [4,5,6]])) # error\n",
    "    x = np.array([[1,2,3], [4,5,6]]).astype(np.float)\n",
    "    #x = np.array([[1,2,3], [4,5,6]], np.float)\n",
    "elif 0:\n",
    "    x = np.array([[1,2,3], [4,5,6]]).astype(np.float32)\n",
    "elif 0:\n",
    "    x = np.array([[1.,2.,3.], [4.,5.,6.]]).astype(np.int)\n",
    "elif 1:\n",
    "    x = np.array([[1.,2.,3.], [4.,5.,6.]]).astype(np.int32)\n",
    "    \n",
    "print(x)\n",
    "print(x.dtype)"
   ]
  },
  {
   "cell_type": "code",
   "execution_count": 17,
   "metadata": {},
   "outputs": [
    {
     "name": "stdout",
     "output_type": "stream",
     "text": [
      "Tensor(\"Cast_2:0\", shape=(?, 28, 28, 3), dtype=bool)\n",
      "<dtype: 'bool'>\n"
     ]
    }
   ],
   "source": [
    "import tensorflow as tf\n",
    "\n",
    "if 0:\n",
    "    x = tf.cast(\n",
    "        tf.placeholder(tf.float32, shape=[None, 28, 28, 3], name='x'),\n",
    "        tf.float64)\n",
    "elif 0:\n",
    "    x = tf.cast(\n",
    "        tf.placeholder(tf.bool, shape=[None, 28, 28, 3], name='x'),\n",
    "        tf.int32)\n",
    "elif 1:\n",
    "    x = tf.cast(\n",
    "        tf.placeholder(tf.int32, shape=[None, 28, 28, 3], name='x'),\n",
    "        tf.bool)\n",
    "    \n",
    "print(x)\n",
    "print(x.dtype)"
   ]
  },
  {
   "cell_type": "code",
   "execution_count": null,
   "metadata": {},
   "outputs": [],
   "source": []
  }
 ],
 "metadata": {
  "kernelspec": {
   "display_name": "Python 3",
   "language": "python",
   "name": "python3"
  },
  "language_info": {
   "codemirror_mode": {
    "name": "ipython",
    "version": 3
   },
   "file_extension": ".py",
   "mimetype": "text/x-python",
   "name": "python",
   "nbconvert_exporter": "python",
   "pygments_lexer": "ipython3",
   "version": "3.7.3"
  }
 },
 "nbformat": 4,
 "nbformat_minor": 2
}
