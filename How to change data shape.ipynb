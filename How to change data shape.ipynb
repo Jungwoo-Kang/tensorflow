{
 "cells": [
  {
   "cell_type": "code",
   "execution_count": 16,
   "metadata": {},
   "outputs": [
    {
     "name": "stdout",
     "output_type": "stream",
     "text": [
      "[[[1 2]\n",
      "  [3 4]\n",
      "  [5 6]]]\n",
      "(1, 3, 2)\n"
     ]
    }
   ],
   "source": [
    "import numpy as np\n",
    "\n",
    "x = np.array([[1,2,3], [4,5,6]]).reshape((1,3,2))\n",
    "    \n",
    "print(x)\n",
    "print(x.shape)"
   ]
  },
  {
   "cell_type": "code",
   "execution_count": 22,
   "metadata": {},
   "outputs": [
    {
     "name": "stdout",
     "output_type": "stream",
     "text": [
      "Tensor(\"Reshape_4:0\", shape=(?, 2352), dtype=float32)\n",
      "(?, 2352)\n"
     ]
    }
   ],
   "source": [
    "import tensorflow as tf\n",
    "\n",
    "#x = tf.placeholder(tf.float32, shape=[None, 28, 28, 3], name='x').reshape((-1,28*28*3)) # error\n",
    "#x = tf.placeholder(tf.float32, shape=[-1, 28, 28, 3], name='x') # error\n",
    "x = tf.placeholder(tf.float32, shape=[None, 28, 28, 3], name='x')\n",
    "#x = tf.reshape(x, (None,28*28*3)) # error\n",
    "x = tf.reshape(x, (-1,28*28*3))\n",
    "    \n",
    "print(x)\n",
    "print(x.shape)"
   ]
  },
  {
   "cell_type": "markdown",
   "metadata": {},
   "source": [
    "# get_shape and num_elements method"
   ]
  },
  {
   "cell_type": "code",
   "execution_count": 31,
   "metadata": {},
   "outputs": [
    {
     "name": "stdout",
     "output_type": "stream",
     "text": [
      "Tensor(\"x_27:0\", shape=(?, 28, 28, 3), dtype=float32)\n",
      "(?, 28, 28, 3)\n",
      "<dtype: 'float32'>\n",
      "Tensor(\"Reshape_7:0\", shape=(?, 2352), dtype=float32)\n",
      "(?, 2352)\n",
      "<dtype: 'float32'>\n"
     ]
    }
   ],
   "source": [
    "import tensorflow as tf\n",
    "\n",
    "x = tf.placeholder(tf.float32, shape=[None, 28, 28, 3], name='x')\n",
    "x_shape = x.get_shape()\n",
    "    \n",
    "if 0:\n",
    "    print(x.shape)\n",
    "    print(x_shape)\n",
    "elif 0:\n",
    "    print(x.shape[1:])\n",
    "    print(x_shape[1:])\n",
    "elif 0:\n",
    "    print(type(x.shape[1:]))\n",
    "    print(type(x_shape[1:]))\n",
    "elif 0:\n",
    "    print(x.shape[1:].num_elements())\n",
    "    print(x_shape[1:].num_elements())\n",
    "    \n",
    "x_flat = tf.reshape(x, (-1, x.shape[1:].num_elements()))\n",
    "\n",
    "print(x)\n",
    "print(x.shape)\n",
    "print(x.dtype)\n",
    "print(x_flat)\n",
    "print(x_flat.shape)\n",
    "print(x_flat.dtype)"
   ]
  },
  {
   "cell_type": "code",
   "execution_count": null,
   "metadata": {},
   "outputs": [],
   "source": []
  }
 ],
 "metadata": {
  "kernelspec": {
   "display_name": "Python 3",
   "language": "python",
   "name": "python3"
  },
  "language_info": {
   "codemirror_mode": {
    "name": "ipython",
    "version": 3
   },
   "file_extension": ".py",
   "mimetype": "text/x-python",
   "name": "python",
   "nbconvert_exporter": "python",
   "pygments_lexer": "ipython3",
   "version": "3.7.3"
  }
 },
 "nbformat": 4,
 "nbformat_minor": 2
}
