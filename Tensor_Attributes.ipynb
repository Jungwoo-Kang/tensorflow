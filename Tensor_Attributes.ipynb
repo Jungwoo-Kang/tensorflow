{
 "cells": [
  {
   "cell_type": "markdown",
   "metadata": {},
   "source": [
    "# Tensor Attributes"
   ]
  },
  {
   "cell_type": "code",
   "execution_count": 1,
   "metadata": {},
   "outputs": [
    {
     "name": "stdout",
     "output_type": "stream",
     "text": [
      "Tensor(\"a:0\", shape=(2, 3), dtype=float32)\n",
      "a:0\n",
      "(2, 3)\n",
      "<dtype: 'float32'>\n",
      "[[-0.99584913 -0.3951732  -1.3096362 ]\n",
      " [ 0.0883877   1.680207    0.21421699]]\n"
     ]
    }
   ],
   "source": [
    "import tensorflow as tf\n",
    "\n",
    "if 0:\n",
    "    a = tf.constant(2, name='a')\n",
    "elif 1:\n",
    "    a = tf.random.normal((2,3), name='a')\n",
    "\n",
    "print(a)\n",
    "print(a.name)\n",
    "print(a.shape)\n",
    "print(a.dtype)\n",
    "\n",
    "with tf.Session() as sess:\n",
    "    print(sess.run(a))"
   ]
  },
  {
   "cell_type": "code",
   "execution_count": null,
   "metadata": {},
   "outputs": [],
   "source": []
  }
 ],
 "metadata": {
  "kernelspec": {
   "display_name": "Python 3",
   "language": "python",
   "name": "python3"
  },
  "language_info": {
   "codemirror_mode": {
    "name": "ipython",
    "version": 3
   },
   "file_extension": ".py",
   "mimetype": "text/x-python",
   "name": "python",
   "nbconvert_exporter": "python",
   "pygments_lexer": "ipython3",
   "version": "3.5.0"
  }
 },
 "nbformat": 4,
 "nbformat_minor": 2
}
