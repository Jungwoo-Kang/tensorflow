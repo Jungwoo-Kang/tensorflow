{
 "cells": [
  {
   "cell_type": "code",
   "execution_count": 1,
   "metadata": {},
   "outputs": [],
   "source": [
    "import tensorflow as tf\n",
    "import numpy as np\n",
    "tf.reset_default_graph()\n",
    "tf.set_random_seed(0)\n",
    "np.random.seed(0)"
   ]
  },
  {
   "cell_type": "code",
   "execution_count": 2,
   "metadata": {},
   "outputs": [],
   "source": [
    "lr = 1e-2\n",
    "epoch = int(1e3)\n",
    "la = 1e-5"
   ]
  },
  {
   "cell_type": "code",
   "execution_count": 3,
   "metadata": {},
   "outputs": [],
   "source": [
    "x_data = np.linspace(-1,1).astype(np.float32).reshape((-1,1)) \n",
    "y_data = (1.+2.*x_data+0.7*np.random.normal(size=x_data.shape)).astype(np.float32) "
   ]
  },
  {
   "cell_type": "code",
   "execution_count": 4,
   "metadata": {},
   "outputs": [
    {
     "name": "stdout",
     "output_type": "stream",
     "text": [
      "WARNING:tensorflow:From /Users/sungchullee/anaconda3/lib/python3.6/site-packages/tensorflow_core/python/keras/initializers.py:143: calling RandomNormal.__init__ (from tensorflow.python.ops.init_ops) with dtype is deprecated and will be removed in a future version.\n",
      "Instructions for updating:\n",
      "Call initializer instance with the dtype argument instead of passing it to the constructor\n"
     ]
    }
   ],
   "source": [
    "x = tf.placeholder(tf.float32, (None,1)) \n",
    "y = tf.placeholder(tf.float32, (None,1)) \n",
    "\n",
    "alpha = tf.get_variable('alpha', (), tf.float32, tf.keras.initializers.constant(0.0))\n",
    "beta = tf.get_variable('beta', (1,1), tf.float32, tf.keras.initializers.RandomNormal())\n",
    "\n",
    "y_pred = alpha + x @ beta \n",
    "recon_loss = tf.nn.l2_loss(y-y_pred) "
   ]
  },
  {
   "cell_type": "code",
   "execution_count": 5,
   "metadata": {},
   "outputs": [],
   "source": [
    "loss_w = [tf.abs(var)\n",
    "          for var in tf.get_collection(tf.GraphKeys.TRAINABLE_VARIABLES)\n",
    "          if \"beta\" in var.name]\n",
    "reg_loss = la * tf.add_n(loss_w)"
   ]
  },
  {
   "cell_type": "code",
   "execution_count": 6,
   "metadata": {},
   "outputs": [],
   "source": [
    "loss = tf.reduce_mean(recon_loss + reg_loss)\n",
    "train = tf.train.GradientDescentOptimizer(learning_rate=lr).minimize(loss)"
   ]
  },
  {
   "cell_type": "code",
   "execution_count": 7,
   "metadata": {},
   "outputs": [],
   "source": [
    "with tf.Session() as sess:\n",
    "    \n",
    "    tf.global_variables_initializer().run()\n",
    "    \n",
    "    alpha_trace = []\n",
    "    beta_trace = []\n",
    "    loss_trace = []\n",
    "    \n",
    "    feed_dict = {x:x_data, y:y_data}\n",
    "    for i in range(epoch):\n",
    "        if i == 0:\n",
    "            alpha_run, beta_run, loss_run = sess.run([alpha, beta, loss], feed_dict=feed_dict)\n",
    "        else:\n",
    "            alpha_run, beta_run, loss_run, _ = sess.run([alpha, beta, loss, train], feed_dict=feed_dict)\n",
    "        alpha_trace.append(alpha_run)\n",
    "        beta_trace.append(beta_run[0,0])\n",
    "        loss_trace.append(loss_run)   \n",
    "    y_pred_run = sess.run(y_pred, feed_dict=feed_dict)"
   ]
  },
  {
   "cell_type": "code",
   "execution_count": 8,
   "metadata": {},
   "outputs": [
    {
     "data": {
      "image/png": "[encoded data removed]",
      "text/plain": [
       "<Figure size 432x288 with 3 Axes>"
      ]
     },
     "metadata": {
      "needs_background": "light"
     },
     "output_type": "display_data"
    }
   ],
   "source": [
    "%matplotlib inline\n",
    "import matplotlib.pyplot as plt\n",
    "fig, (ax1, ax2, ax3) = plt.subplots(1, 3)\n",
    "ax1.plot(alpha_trace)\n",
    "ax1.set_xlabel('epoch')\n",
    "ax1.set_title('alpha')\n",
    "ax2.plot(beta_trace)\n",
    "ax2.set_xlabel('epoch')\n",
    "ax2.set_title('beta')\n",
    "ax3.plot(loss_trace)\n",
    "ax3.set_xlabel('epoch')\n",
    "ax3.set_title('loss')\n",
    "plt.tight_layout()\n",
    "plt.show()"
   ]
  },
  {
   "cell_type": "code",
   "execution_count": 9,
   "metadata": {},
   "outputs": [
    {
     "data": {
      "image/png": "[encoded data removed]",
      "text/plain": [
       "<Figure size 432x288 with 1 Axes>"
      ]
     },
     "metadata": {
      "needs_background": "light"
     },
     "output_type": "display_data"
    }
   ],
   "source": [
    "%matplotlib inline\n",
    "import matplotlib.pyplot as plt\n",
    "fig, ax = plt.subplots(1, 1)\n",
    "ax.plot(x_data.reshape((-1,)), y_data.reshape((-1,)), 'o')\n",
    "ax.plot(x_data.reshape((-1,)), y_pred_run.reshape((-1,)))\n",
    "plt.show()"
   ]
  },
  {
   "cell_type": "code",
   "execution_count": null,
   "metadata": {},
   "outputs": [],
   "source": []
  }
 ],
 "metadata": {
  "kernelspec": {
   "display_name": "Python 3",
   "language": "python",
   "name": "python3"
  },
  "language_info": {
   "codemirror_mode": {
    "name": "ipython",
    "version": 3
   },
   "file_extension": ".py",
   "mimetype": "text/x-python",
   "name": "python",
   "nbconvert_exporter": "python",
   "pygments_lexer": "ipython3",
   "version": "3.6.9"
  }
 },
 "nbformat": 4,
 "nbformat_minor": 2
}
