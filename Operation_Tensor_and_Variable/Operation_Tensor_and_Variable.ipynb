{
 "cells": [
  {
   "cell_type": "code",
   "execution_count": 11,
   "metadata": {},
   "outputs": [
    {
     "data": {
      "image/png": "[encoded data removed]",
      "text/plain": [
       "<Figure size 432x288 with 1 Axes>"
      ]
     },
     "metadata": {
      "needs_background": "light"
     },
     "output_type": "display_data"
    }
   ],
   "source": [
    "%matplotlib inline\n",
    "import numpy as np\n",
    "import matplotlib.pyplot as plt\n",
    "\n",
    "x_data = np.random.uniform(size=(100,1)) # (100,1)\n",
    "noise = np.random.normal(size=(100,1)) # (100,1)\n",
    "y_data = 2 * x_data + 1 + 0.4 * noise # (100,1)\n",
    "\n",
    "plt.plot(x_data.reshape((-1,)), y_data.reshape((-1,)), 'o')\n",
    "plt.show()"
   ]
  },
  {
   "cell_type": "code",
   "execution_count": 32,
   "metadata": {},
   "outputs": [],
   "source": [
    "import tensorflow as tf\n",
    "tf.reset_default_graph()\n",
    "\n",
    "x = tf.placeholder(tf.float32, (100,1), name='x')\n",
    "y = tf.placeholder(tf.float32, (100,1), name='y')\n",
    "\n",
    "init_w = tf.keras.initializers.ones()\n",
    "w = tf.get_variable('w', (1,1), tf.float32, init_w)\n",
    "\n",
    "y_pred = x @ w # (100,1) @ (1,1) = (100,1) \n",
    "\n",
    "diff = y - y_pred\n",
    "loss = tf.nn.l2_loss(diff)"
   ]
  },
  {
   "cell_type": "code",
   "execution_count": 22,
   "metadata": {},
   "outputs": [
    {
     "name": "stdout",
     "output_type": "stream",
     "text": [
      "<dtype: 'float32'>\n",
      "<dtype: 'float32_ref'>\n",
      "<dtype: 'float32'>\n"
     ]
    }
   ],
   "source": [
    "print(x.dtype) # (100,1)\n",
    "print(w.dtype) # (1,1)\n",
    "print(y_pred.dtype) # (100,1)"
   ]
  },
  {
   "cell_type": "code",
   "execution_count": 23,
   "metadata": {},
   "outputs": [
    {
     "name": "stdout",
     "output_type": "stream",
     "text": [
      "Tensor(\"x:0\", shape=(100, 1), dtype=float32)\n",
      "<tf.Variable 'w:0' shape=(1, 1) dtype=float32_ref>\n",
      "Tensor(\"matmul:0\", shape=(100, 1), dtype=float32)\n"
     ]
    }
   ],
   "source": [
    "print(x)\n",
    "print(w)\n",
    "print(y_pred)"
   ]
  },
  {
   "cell_type": "code",
   "execution_count": 33,
   "metadata": {},
   "outputs": [
    {
     "name": "stdout",
     "output_type": "stream",
     "text": [
      "x\n",
      "y\n",
      "w/Initializer/ones\n",
      "w\n",
      "w/Assign\n",
      "w/read\n",
      "matmul\n",
      "sub\n",
      "L2Loss\n"
     ]
    }
   ],
   "source": [
    "g = tf.get_default_graph()\n",
    "for op in g.get_operations():\n",
    "    print(op.name)"
   ]
  },
  {
   "cell_type": "code",
   "execution_count": 34,
   "metadata": {},
   "outputs": [
    {
     "name": "stdout",
     "output_type": "stream",
     "text": [
      "----------\n",
      "----------\n",
      "----------\n",
      "----------\n",
      "Tensor(\"w:0\", shape=(1, 1), dtype=float32_ref)\n",
      "Tensor(\"w/Initializer/ones:0\", shape=(1, 1), dtype=float32)\n",
      "----------\n",
      "Tensor(\"w:0\", shape=(1, 1), dtype=float32_ref)\n",
      "----------\n",
      "Tensor(\"x:0\", shape=(100, 1), dtype=float32)\n",
      "Tensor(\"w/read:0\", shape=(1, 1), dtype=float32)\n",
      "----------\n",
      "Tensor(\"y:0\", shape=(100, 1), dtype=float32)\n",
      "Tensor(\"matmul:0\", shape=(100, 1), dtype=float32)\n",
      "----------\n",
      "Tensor(\"sub:0\", shape=(100, 1), dtype=float32)\n",
      "----------\n"
     ]
    }
   ],
   "source": [
    "for op in g.get_operations():\n",
    "    for tensor in op.inputs:\n",
    "        print(tensor)\n",
    "    print('----------')"
   ]
  },
  {
   "cell_type": "code",
   "execution_count": 35,
   "metadata": {},
   "outputs": [
    {
     "name": "stdout",
     "output_type": "stream",
     "text": [
      "Tensor(\"x:0\", shape=(100, 1), dtype=float32)\n",
      "----------\n",
      "Tensor(\"y:0\", shape=(100, 1), dtype=float32)\n",
      "----------\n",
      "Tensor(\"w/Initializer/ones:0\", shape=(1, 1), dtype=float32)\n",
      "----------\n",
      "Tensor(\"w:0\", shape=(1, 1), dtype=float32_ref)\n",
      "----------\n",
      "Tensor(\"w/Assign:0\", shape=(1, 1), dtype=float32_ref)\n",
      "----------\n",
      "Tensor(\"w/read:0\", shape=(1, 1), dtype=float32)\n",
      "----------\n",
      "Tensor(\"matmul:0\", shape=(100, 1), dtype=float32)\n",
      "----------\n",
      "Tensor(\"sub:0\", shape=(100, 1), dtype=float32)\n",
      "----------\n",
      "Tensor(\"L2Loss:0\", shape=(), dtype=float32)\n",
      "----------\n"
     ]
    }
   ],
   "source": [
    "for op in g.get_operations():\n",
    "    for tensor in op.outputs:\n",
    "        print(tensor)\n",
    "    print('----------')"
   ]
  },
  {
   "cell_type": "code",
   "execution_count": null,
   "metadata": {},
   "outputs": [],
   "source": []
  }
 ],
 "metadata": {
  "kernelspec": {
   "display_name": "Python 3",
   "language": "python",
   "name": "python3"
  },
  "language_info": {
   "codemirror_mode": {
    "name": "ipython",
    "version": 3
   },
   "file_extension": ".py",
   "mimetype": "text/x-python",
   "name": "python",
   "nbconvert_exporter": "python",
   "pygments_lexer": "ipython3",
   "version": "3.6.9"
  }
 },
 "nbformat": 4,
 "nbformat_minor": 2
}
