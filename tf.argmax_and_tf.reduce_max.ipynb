{
 "cells": [
  {
   "cell_type": "markdown",
   "metadata": {
    "collapsed": true,
    "slideshow": {
     "slide_type": "slide"
    }
   },
   "source": [
    "# tf.argmax and tf.reduce_max\n",
    " \n",
    "Sungchul Lee  "
   ]
  },
  {
   "cell_type": "markdown",
   "metadata": {
    "slideshow": {
     "slide_type": "subslide"
    }
   },
   "source": [
    "# How to run these slides yourself\n",
    "\n",
    "**Setup python environment**\n",
    "\n",
    "- [Install RISE for an interactive presentation viewer](https://github.com/damianavila/RISE)"
   ]
  },
  {
   "cell_type": "markdown",
   "metadata": {
    "collapsed": true,
    "slideshow": {
     "slide_type": "slide"
    }
   },
   "source": [
    "# tf.argmax (tf.argmin)"
   ]
  },
  {
   "cell_type": "markdown",
   "metadata": {
    "slideshow": {
     "slide_type": "fragment"
    }
   },
   "source": [
    "> For each row, find argmax.\n",
    "\n",
    "> The rank is down by 1."
   ]
  },
  {
   "cell_type": "markdown",
   "metadata": {
    "slideshow": {
     "slide_type": "subslide"
    }
   },
   "source": [
    "```\n",
    "tf.argmax(\n",
    "    input,\n",
    "    axis=None,\n",
    "    name=None,\n",
    "    dimension=None,\n",
    "    output_type=tf.int64\n",
    ")\n",
    "```\n",
    "\n",
    "https://www.tensorflow.org/api_docs/python/tf/argmax"
   ]
  },
  {
   "cell_type": "code",
   "execution_count": 8,
   "metadata": {
    "slideshow": {
     "slide_type": "subslide"
    }
   },
   "outputs": [
    {
     "name": "stdout",
     "output_type": "stream",
     "text": [
      "[1 1 0]\n",
      "int32\n"
     ]
    }
   ],
   "source": [
    "import tensorflow as tf\n",
    "\n",
    "t = tf.constant([[1, 8, 3], \n",
    "                 [4, 7, 6], \n",
    "                 [9, 2, 5]])\n",
    "\n",
    "if 0:\n",
    "    # 각각의 칼럼에서 최대값이 발생하는 인덱스를 찿음\n",
    "    argmax_where = tf.argmax(t) \n",
    "elif 0:\n",
    "    argmax_where = tf.argmax(t, output_type=tf.int32) \n",
    "elif 0:\n",
    "    # 각각의 칼럼에서 최대값이 발생하는 인덱스를 찿음\n",
    "    argmax_where = tf.argmax(t, axis=0)\n",
    "elif 0:\n",
    "    argmax_where = tf.argmax(t, axis=0, output_type=tf.int32)\n",
    "elif 0:\n",
    "    # 각각의 로에서 최대값이 발생하는 인덱스를 찿음\n",
    "    argmax_where = tf.argmax(t, axis=1)\n",
    "elif 1:\n",
    "    argmax_where = tf.argmax(t, axis=1, output_type=tf.int32)\n",
    "\n",
    "with tf.Session() as sess:\n",
    "    print(sess.run(argmax_where))\n",
    "    print(sess.run(argmax_where).dtype)"
   ]
  },
  {
   "cell_type": "markdown",
   "metadata": {
    "slideshow": {
     "slide_type": "slide"
    }
   },
   "source": [
    "# tf.reduce_max (tf.reduce_min)"
   ]
  },
  {
   "cell_type": "markdown",
   "metadata": {
    "slideshow": {
     "slide_type": "fragment"
    }
   },
   "source": [
    "> For each row, find max\n",
    "\n",
    "> The rank is down by 1. \n",
    "\n",
    "> You can use 'keepdims=True' to keep the current rank."
   ]
  },
  {
   "cell_type": "markdown",
   "metadata": {
    "slideshow": {
     "slide_type": "subslide"
    }
   },
   "source": [
    "```\n",
    "tf.reduce_max(\n",
    "    input_tensor,\n",
    "    axis=None,\n",
    "    keepdims=None,\n",
    "    name=None,\n",
    "    reduction_indices=None\n",
    ")\n",
    "```\n",
    "\n",
    "https://www.tensorflow.org/versions/r1.8/api_docs/python/tf/reduce_max"
   ]
  },
  {
   "cell_type": "code",
   "execution_count": 11,
   "metadata": {
    "slideshow": {
     "slide_type": "subslide"
    }
   },
   "outputs": [
    {
     "name": "stdout",
     "output_type": "stream",
     "text": [
      "[8 7 9]\n"
     ]
    }
   ],
   "source": [
    "import tensorflow as tf\n",
    "\n",
    "t = tf.constant([[1, 8, 3], \n",
    "                 [4, 7, 6], \n",
    "                 [9, 2, 5]])\n",
    "\n",
    "if 0:\n",
    "    # 최대값 찿음\n",
    "    M = tf.reduce_max(t) \n",
    "elif 0:\n",
    "    # 각각의 칼럼에서 최대값 찿음\n",
    "    M = tf.reduce_max(t, axis=0)\n",
    "elif 1:\n",
    "    # 각각의 로에서 최대값 찿음\n",
    "    M = tf.reduce_max(t, axis=1)\n",
    "\n",
    "with tf.Session() as sess:\n",
    "    print(sess.run(M))"
   ]
  },
  {
   "cell_type": "markdown",
   "metadata": {
    "slideshow": {
     "slide_type": "subslide"
    }
   },
   "source": [
    "# keepdims=True"
   ]
  },
  {
   "cell_type": "code",
   "execution_count": 14,
   "metadata": {
    "slideshow": {
     "slide_type": "subslide"
    }
   },
   "outputs": [
    {
     "name": "stdout",
     "output_type": "stream",
     "text": [
      "[[8]\n",
      " [7]\n",
      " [9]]\n"
     ]
    }
   ],
   "source": [
    "import tensorflow as tf\n",
    "\n",
    "t = tf.constant([[1, 8, 3], \n",
    "                 [4, 7, 6], \n",
    "                 [9, 2, 5]])\n",
    "\n",
    "if 0:\n",
    "    # 최대값 찿음\n",
    "    M = tf.reduce_max(t, keepdims=True) \n",
    "elif 0:\n",
    "    # 각각의 칼럼에서 최대값 찿음\n",
    "    M = tf.reduce_max(t, axis=0, keepdims=True)\n",
    "elif 1:\n",
    "    # 각각의 로에서 최대값 찿음\n",
    "    M = tf.reduce_max(t, axis=1, keepdims=True)\n",
    "\n",
    "with tf.Session() as sess:\n",
    "    print(sess.run(M))"
   ]
  },
  {
   "cell_type": "code",
   "execution_count": null,
   "metadata": {},
   "outputs": [],
   "source": []
  }
 ],
 "metadata": {
  "celltoolbar": "Slideshow",
  "kernelspec": {
   "display_name": "Python 3",
   "language": "python",
   "name": "python3"
  },
  "language_info": {
   "codemirror_mode": {
    "name": "ipython",
    "version": 3
   },
   "file_extension": ".py",
   "mimetype": "text/x-python",
   "name": "python",
   "nbconvert_exporter": "python",
   "pygments_lexer": "ipython3",
   "version": "3.5.0"
  }
 },
 "nbformat": 4,
 "nbformat_minor": 2
}
