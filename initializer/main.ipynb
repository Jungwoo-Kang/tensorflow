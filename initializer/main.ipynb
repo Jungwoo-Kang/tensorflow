{
 "cells": [
  {
   "cell_type": "code",
   "execution_count": 24,
   "metadata": {},
   "outputs": [
    {
     "name": "stdout",
     "output_type": "stream",
     "text": [
      "[[1. 0. 0.]\n",
      " [0. 1. 0.]\n",
      " [0. 0. 1.]\n",
      " [0. 0. 0.]\n",
      " [0. 0. 0.]]\n",
      "<tf.Variable 'w:0' shape=(5, 3) dtype=float32_ref>\n"
     ]
    }
   ],
   "source": [
    "import tensorflow as tf\n",
    "tf.reset_default_graph()\n",
    "\n",
    "#init_w = tf.keras.initializers.constant(7.0)\n",
    "#init_w = tf.keras.initializers.ones()\n",
    "#init_w = tf.keras.initializers.zeros()\n",
    "init_w = tf.keras.initializers.identity()\n",
    "w = tf.get_variable('w', (5, 3), tf.float32, init_w)\n",
    "\n",
    "init = tf.global_variables_initializer()\n",
    "\n",
    "with tf.Session() as sess:\n",
    "    sess.run(init)\n",
    "    w_run = sess.run(w)\n",
    "print(w_run)\n",
    "print(w)"
   ]
  },
  {
   "cell_type": "code",
   "execution_count": 23,
   "metadata": {},
   "outputs": [
    {
     "name": "stdout",
     "output_type": "stream",
     "text": [
      "Tensor(\"w/Initializer/eye/ones:0\", shape=(3,), dtype=float32)\n",
      "Tensor(\"w/Initializer/eye/zeros:0\", shape=(3, 5), dtype=float32)\n",
      "Tensor(\"w/Initializer/eye/set_diag:0\", shape=(3, 5), dtype=float32)\n",
      "Tensor(\"w/Initializer/mul/x:0\", shape=(), dtype=float32)\n",
      "Tensor(\"w/Initializer/mul:0\", shape=(3, 5), dtype=float32)\n",
      "Tensor(\"w:0\", shape=(3, 5), dtype=float32_ref)\n",
      "Tensor(\"w/Assign:0\", shape=(3, 5), dtype=float32_ref)\n",
      "Tensor(\"w/read:0\", shape=(3, 5), dtype=float32)\n"
     ]
    }
   ],
   "source": [
    "g = tf.get_default_graph()\n",
    "ops = g.get_operations()\n",
    "for op in ops:\n",
    "    for tensor in op.outputs:\n",
    "        print(tensor)"
   ]
  },
  {
   "cell_type": "code",
   "execution_count": 34,
   "metadata": {},
   "outputs": [
    {
     "name": "stdout",
     "output_type": "stream",
     "text": [
      "<tf.Variable 'w:0' shape=(100, 100) dtype=float32_ref>\n",
      "<class 'numpy.ndarray'>\n",
      "(100, 100)\n",
      "float32\n"
     ]
    },
    {
     "data": {
      "image/png": "[encoded data removed]",
      "text/plain": [
       "<Figure size 432x288 with 1 Axes>"
      ]
     },
     "metadata": {
      "needs_background": "light"
     },
     "output_type": "display_data"
    },
    {
     "name": "stdout",
     "output_type": "stream",
     "text": [
      "0.49432907 0.28914863\n"
     ]
    }
   ],
   "source": [
    "%matplotlib inline\n",
    "import tensorflow as tf; tf.reset_default_graph()\n",
    "import matplotlib.pyplot as plt\n",
    "import numpy as np\n",
    "\n",
    "#init_w = tf.keras.initializers.RandomNormal() # mean=0, std=0.05\n",
    "#init_w = tf.keras.initializers.TruncatedNormal() # mean=0, (before_truncation_)std=0.05\n",
    "init_w = tf.keras.initializers.RandomUniform(minval=0., maxval=1.) # minval=-0.05, maxval=0.05\n",
    "w = tf.get_variable('w', (100,100), tf.float32, init_w)\n",
    "\n",
    "init = tf.global_variables_initializer()\n",
    "\n",
    "with tf.Session() as sess:\n",
    "    sess.run(init)\n",
    "    print(w)\n",
    "    w_run = sess.run(w)\n",
    "    print(type(w_run))\n",
    "    print(w_run.shape)\n",
    "    print(w_run.dtype)\n",
    "    \n",
    "plt.hist(w_run.reshape((-1,)), bins=100, density=True)\n",
    "plt.show()\n",
    "print(w_run.reshape((-1,)).mean(), w_run.reshape((-1,)).std())"
   ]
  },
  {
   "cell_type": "code",
   "execution_count": 31,
   "metadata": {},
   "outputs": [
    {
     "name": "stdout",
     "output_type": "stream",
     "text": [
      "Tensor(\"w/Initializer/random_normal/shape:0\", shape=(2,), dtype=int32)\n",
      "Tensor(\"w/Initializer/random_normal/mean:0\", shape=(), dtype=float32)\n",
      "Tensor(\"w/Initializer/random_normal/stddev:0\", shape=(), dtype=float32)\n",
      "Tensor(\"w/Initializer/random_normal/RandomStandardNormal:0\", shape=(100, 100), dtype=float32)\n",
      "Tensor(\"w/Initializer/random_normal/mul:0\", shape=(100, 100), dtype=float32)\n",
      "Tensor(\"w/Initializer/random_normal:0\", shape=(100, 100), dtype=float32)\n",
      "Tensor(\"w:0\", shape=(100, 100), dtype=float32_ref)\n",
      "Tensor(\"w/Assign:0\", shape=(100, 100), dtype=float32_ref)\n",
      "Tensor(\"w/read:0\", shape=(100, 100), dtype=float32)\n"
     ]
    }
   ],
   "source": [
    "g = tf.get_default_graph()\n",
    "ops = g.get_operations()\n",
    "for op in ops:\n",
    "    for tensor in op.outputs:\n",
    "        print(tensor)"
   ]
  },
  {
   "cell_type": "code",
   "execution_count": 54,
   "metadata": {},
   "outputs": [
    {
     "name": "stdout",
     "output_type": "stream",
     "text": [
      "2.99999987334013\n"
     ]
    }
   ],
   "source": [
    "%matplotlib inline\n",
    "import tensorflow as tf; tf.reset_default_graph()\n",
    "import numpy as np\n",
    "import matplotlib.pyplot as plt\n",
    "\n",
    "init_w = tf.keras.initializers.Orthogonal()\n",
    "w = tf.get_variable('w', (3,5), dtype=tf.float32, initializer=init_w)\n",
    "\n",
    "init = tf.global_variables_initializer()\n",
    "\n",
    "with tf.Session() as sess:\n",
    "    sess.run(init)\n",
    "    w_run = sess.run(w)\n",
    "\n",
    "total_sum = 0\n",
    "for i in range(3):\n",
    "    for j in range(3):\n",
    "        total_sum += np.abs(np.sum(w_run[i]*w_run[j]))\n",
    "print(total_sum)"
   ]
  },
  {
   "cell_type": "code",
   "execution_count": 61,
   "metadata": {},
   "outputs": [
    {
     "name": "stdout",
     "output_type": "stream",
     "text": [
      "3.0000000074505806\n"
     ]
    }
   ],
   "source": [
    "%matplotlib inline\n",
    "import tensorflow as tf; tf.reset_default_graph()\n",
    "import numpy as np\n",
    "import matplotlib.pyplot as plt\n",
    "\n",
    "init_w = tf.keras.initializers.Orthogonal()\n",
    "w = tf.get_variable('w', (5,3), dtype=tf.float32, initializer=init_w)\n",
    "\n",
    "init = tf.global_variables_initializer()\n",
    "\n",
    "with tf.Session() as sess:\n",
    "    sess.run(init)\n",
    "    w_run = sess.run(w)\n",
    "\n",
    "total_sum = 0\n",
    "for i in range(3):\n",
    "    for j in range(3):\n",
    "        total_sum += np.abs(np.sum(w_run[:,i]*w_run[:,j]))\n",
    "print(total_sum)"
   ]
  },
  {
   "cell_type": "code",
   "execution_count": 60,
   "metadata": {},
   "outputs": [
    {
     "data": {
      "image/png": "[encoded data removed]",
      "text/plain": [
       "<Figure size 432x288 with 1 Axes>"
      ]
     },
     "metadata": {
      "needs_background": "light"
     },
     "output_type": "display_data"
    },
    {
     "name": "stdout",
     "output_type": "stream",
     "text": [
      "-0.002406487 0.100820564\n",
      "0.1\n"
     ]
    }
   ],
   "source": [
    "%matplotlib inline\n",
    "import tensorflow as tf; tf.reset_default_graph()\n",
    "import numpy as np\n",
    "import matplotlib.pyplot as plt\n",
    "\n",
    "init_w = tf.keras.initializers.glorot_normal()\n",
    "w = tf.get_variable('w', (100,100), dtype=tf.float32, initializer=init_w)\n",
    "\n",
    "init = tf.global_variables_initializer()\n",
    "\n",
    "with tf.Session() as sess:\n",
    "    sess.run(init)\n",
    "    w_run = sess.run(w)\n",
    "    \n",
    "plt.hist(w_run.reshape((-1,)), bins=100, density=True)\n",
    "plt.show()\n",
    "print(w_run.reshape((-1,)).mean(), w_run.reshape((-1,)).std())\n",
    "print(np.sqrt(1/((100+100)/2)))"
   ]
  },
  {
   "cell_type": "code",
   "execution_count": 68,
   "metadata": {},
   "outputs": [
    {
     "data": {
      "image/png": "[encoded data removed]",
      "text/plain": [
       "<Figure size 432x288 with 1 Axes>"
      ]
     },
     "metadata": {
      "needs_background": "light"
     },
     "output_type": "display_data"
    }
   ],
   "source": [
    "%matplotlib inline\n",
    "import tensorflow as tf; tf.reset_default_graph()\n",
    "import numpy as np\n",
    "import matplotlib.pyplot as plt\n",
    "\n",
    "#init_w = tf.keras.initializers.VarianceScaling() # lucun\n",
    "#init_w = tf.keras.initializers.VarianceScaling(mode='fan_avg') # xavier\n",
    "init_w = tf.keras.initializers.VarianceScaling(scale=2.0) # he\n",
    "w = tf.get_variable('w', (100,100), dtype=tf.float32, initializer=init_w)\n",
    "init = tf.global_variables_initializer()\n",
    "\n",
    "with tf.Session() as sess:\n",
    "    sess.run(init)\n",
    "    w_run = sess.run(w)\n",
    "    \n",
    "plt.hist(w_run.reshape((-1,)), bins=100, density=True)\n",
    "plt.show()"
   ]
  },
  {
   "cell_type": "code",
   "execution_count": 69,
   "metadata": {},
   "outputs": [
    {
     "name": "stdout",
     "output_type": "stream",
     "text": [
      "Tensor(\"w/Initializer/truncated_normal/shape:0\", shape=(2,), dtype=int32)\n",
      "Tensor(\"w/Initializer/truncated_normal/mean:0\", shape=(), dtype=float32)\n",
      "Tensor(\"w/Initializer/truncated_normal/stddev:0\", shape=(), dtype=float32)\n",
      "Tensor(\"w/Initializer/truncated_normal/TruncatedNormal:0\", shape=(100, 100), dtype=float32)\n",
      "Tensor(\"w/Initializer/truncated_normal/mul:0\", shape=(100, 100), dtype=float32)\n",
      "Tensor(\"w/Initializer/truncated_normal:0\", shape=(100, 100), dtype=float32)\n",
      "Tensor(\"w:0\", shape=(100, 100), dtype=float32_ref)\n",
      "Tensor(\"w/Assign:0\", shape=(100, 100), dtype=float32_ref)\n",
      "Tensor(\"w/read:0\", shape=(100, 100), dtype=float32)\n"
     ]
    }
   ],
   "source": [
    "g = tf.get_default_graph()\n",
    "ops = g.get_operations()\n",
    "for op in ops:\n",
    "    for tensor in op.outputs:\n",
    "        print(tensor)"
   ]
  },
  {
   "cell_type": "code",
   "execution_count": 70,
   "metadata": {},
   "outputs": [],
   "source": [
    "import tensorflow as tf\n",
    "import numpy as np\n",
    "(x_train, y_train), (x_test, y_test) = tf.keras.datasets.mnist.load_data()"
   ]
  },
  {
   "cell_type": "code",
   "execution_count": 72,
   "metadata": {},
   "outputs": [
    {
     "name": "stdout",
     "output_type": "stream",
     "text": [
      "(60000, 28, 28) (60000,) (10000, 28, 28) (10000,)\n"
     ]
    }
   ],
   "source": [
    "print(x_train.shape, y_train.shape, x_test.shape, y_test.shape)"
   ]
  },
  {
   "cell_type": "code",
   "execution_count": 84,
   "metadata": {},
   "outputs": [
    {
     "name": "stdout",
     "output_type": "stream",
     "text": [
      "uint8 uint8 uint8 uint8\n"
     ]
    }
   ],
   "source": [
    "print(x_train.dtype, y_train.dtype, x_test.dtype, y_test.dtype)"
   ]
  },
  {
   "cell_type": "code",
   "execution_count": 86,
   "metadata": {},
   "outputs": [
    {
     "name": "stdout",
     "output_type": "stream",
     "text": [
      "0 255\n"
     ]
    }
   ],
   "source": [
    "print(np.min(x_train), np.max(x_train))"
   ]
  },
  {
   "cell_type": "code",
   "execution_count": 87,
   "metadata": {},
   "outputs": [
    {
     "data": {
      "image/png": "[encoded data removed]",
      "text/plain": [
       "<Figure size 432x288 with 1 Axes>"
      ]
     },
     "metadata": {
      "needs_background": "light"
     },
     "output_type": "display_data"
    },
    {
     "data": {
      "image/png": "[encoded data removed]",
      "text/plain": [
       "<Figure size 432x288 with 1 Axes>"
      ]
     },
     "metadata": {
      "needs_background": "light"
     },
     "output_type": "display_data"
    }
   ],
   "source": [
    "%matplotlib inline\n",
    "import matplotlib.pyplot as plt\n",
    "for i in range(2):\n",
    "    plt.imshow(x_train[i], cmap='gray')\n",
    "    plt.axis('off')\n",
    "    plt.show()"
   ]
  },
  {
   "cell_type": "code",
   "execution_count": 88,
   "metadata": {},
   "outputs": [],
   "source": [
    "x_train = x_train.astype(np.float32).reshape(-1, 28*28) / 255.0\n",
    "x_test = x_test.astype(np.float32).reshape(-1, 28*28) / 255.0\n",
    "y_train = y_train.astype(np.int32)\n",
    "y_test = y_test.astype(np.int32)\n",
    "x_valid, x_train = x_train[:5000], x_train[5000:]\n",
    "y_valid, y_train = y_train[:5000], y_train[5000:]"
   ]
  },
  {
   "cell_type": "code",
   "execution_count": 89,
   "metadata": {},
   "outputs": [],
   "source": [
    "def shuffle_batch(x, y, batch_size):\n",
    "    rnd_idx = np.random.permutation(len(x))\n",
    "    n_batches = len(x) // batch_size\n",
    "    for batch_idx in np.array_split(rnd_idx, n_batches):\n",
    "        x_batch, y_batch = x[batch_idx], y[batch_idx]\n",
    "        yield x_batch, y_batch"
   ]
  },
  {
   "cell_type": "code",
   "execution_count": 92,
   "metadata": {},
   "outputs": [],
   "source": [
    "import tensorflow as tf\n",
    "import numpy as np\n",
    "tf.reset_default_graph()\n",
    "tf.set_random_seed(0)\n",
    "np.random.seed(0)"
   ]
  },
  {
   "cell_type": "code",
   "execution_count": 93,
   "metadata": {},
   "outputs": [],
   "source": [
    "lr = 0.01\n",
    "epoch = 20\n",
    "batch_size = 200\n",
    "threshold = 1.0"
   ]
  },
  {
   "cell_type": "code",
   "execution_count": 94,
   "metadata": {},
   "outputs": [
    {
     "name": "stdout",
     "output_type": "stream",
     "text": [
      "WARNING:tensorflow:From <ipython-input-94-453923ca02c7>:8: dense (from tensorflow.python.layers.core) is deprecated and will be removed in a future version.\n",
      "Instructions for updating:\n",
      "Use keras.layers.Dense instead.\n",
      "WARNING:tensorflow:From /Users/sungchullee/anaconda3/lib/python3.6/site-packages/tensorflow_core/python/layers/core.py:187: Layer.apply (from tensorflow.python.keras.engine.base_layer) is deprecated and will be removed in a future version.\n",
      "Instructions for updating:\n",
      "Please use `layer.__call__` method instead.\n"
     ]
    }
   ],
   "source": [
    "n_inputs = 28 * 28  # MNIST\n",
    "n_hidden1 = 300\n",
    "n_outputs = 10\n",
    "\n",
    "x = tf.placeholder(tf.float32, shape=(None, n_inputs), name=\"x\")\n",
    "y = tf.placeholder(tf.int32, shape=(None), name=\"y\")\n",
    "\n",
    "hidden1 = tf.layers.dense(x, n_hidden1, activation=tf.nn.relu, name=\"hidden1\")\n",
    "logits = tf.layers.dense(hidden1, n_outputs, name=\"outputs\")"
   ]
  },
  {
   "cell_type": "code",
   "execution_count": 95,
   "metadata": {},
   "outputs": [
    {
     "name": "stdout",
     "output_type": "stream",
     "text": [
      "Tensor(\"x:0\", shape=(?, 784), dtype=float32)\n",
      "Tensor(\"y:0\", dtype=int32)\n",
      "Tensor(\"hidden1/kernel/Initializer/random_uniform/shape:0\", shape=(2,), dtype=int32)\n",
      "Tensor(\"hidden1/kernel/Initializer/random_uniform/min:0\", shape=(), dtype=float32)\n",
      "Tensor(\"hidden1/kernel/Initializer/random_uniform/max:0\", shape=(), dtype=float32)\n",
      "Tensor(\"hidden1/kernel/Initializer/random_uniform/RandomUniform:0\", shape=(784, 300), dtype=float32)\n",
      "Tensor(\"hidden1/kernel/Initializer/random_uniform/sub:0\", shape=(), dtype=float32)\n",
      "Tensor(\"hidden1/kernel/Initializer/random_uniform/mul:0\", shape=(784, 300), dtype=float32)\n",
      "Tensor(\"hidden1/kernel/Initializer/random_uniform:0\", shape=(784, 300), dtype=float32)\n",
      "Tensor(\"hidden1/kernel:0\", shape=(784, 300), dtype=float32_ref)\n",
      "Tensor(\"hidden1/kernel/Assign:0\", shape=(784, 300), dtype=float32_ref)\n",
      "Tensor(\"hidden1/kernel/read:0\", shape=(784, 300), dtype=float32)\n",
      "Tensor(\"hidden1/bias/Initializer/zeros:0\", shape=(300,), dtype=float32)\n",
      "Tensor(\"hidden1/bias:0\", shape=(300,), dtype=float32_ref)\n",
      "Tensor(\"hidden1/bias/Assign:0\", shape=(300,), dtype=float32_ref)\n",
      "Tensor(\"hidden1/bias/read:0\", shape=(300,), dtype=float32)\n",
      "Tensor(\"hidden1/MatMul:0\", shape=(?, 300), dtype=float32)\n",
      "Tensor(\"hidden1/BiasAdd:0\", shape=(?, 300), dtype=float32)\n",
      "Tensor(\"hidden1/Relu:0\", shape=(?, 300), dtype=float32)\n",
      "Tensor(\"outputs/kernel/Initializer/random_uniform/shape:0\", shape=(2,), dtype=int32)\n",
      "Tensor(\"outputs/kernel/Initializer/random_uniform/min:0\", shape=(), dtype=float32)\n",
      "Tensor(\"outputs/kernel/Initializer/random_uniform/max:0\", shape=(), dtype=float32)\n",
      "Tensor(\"outputs/kernel/Initializer/random_uniform/RandomUniform:0\", shape=(300, 10), dtype=float32)\n",
      "Tensor(\"outputs/kernel/Initializer/random_uniform/sub:0\", shape=(), dtype=float32)\n",
      "Tensor(\"outputs/kernel/Initializer/random_uniform/mul:0\", shape=(300, 10), dtype=float32)\n",
      "Tensor(\"outputs/kernel/Initializer/random_uniform:0\", shape=(300, 10), dtype=float32)\n",
      "Tensor(\"outputs/kernel:0\", shape=(300, 10), dtype=float32_ref)\n",
      "Tensor(\"outputs/kernel/Assign:0\", shape=(300, 10), dtype=float32_ref)\n",
      "Tensor(\"outputs/kernel/read:0\", shape=(300, 10), dtype=float32)\n",
      "Tensor(\"outputs/bias/Initializer/zeros:0\", shape=(10,), dtype=float32)\n",
      "Tensor(\"outputs/bias:0\", shape=(10,), dtype=float32_ref)\n",
      "Tensor(\"outputs/bias/Assign:0\", shape=(10,), dtype=float32_ref)\n",
      "Tensor(\"outputs/bias/read:0\", shape=(10,), dtype=float32)\n",
      "Tensor(\"outputs/MatMul:0\", shape=(?, 10), dtype=float32)\n",
      "Tensor(\"outputs/BiasAdd:0\", shape=(?, 10), dtype=float32)\n"
     ]
    }
   ],
   "source": [
    "g = tf.get_default_graph()\n",
    "ops = g.get_operations()\n",
    "for op in ops:\n",
    "    for tensor in op.outputs:\n",
    "        print(tensor)"
   ]
  },
  {
   "cell_type": "code",
   "execution_count": 1,
   "metadata": {},
   "outputs": [],
   "source": [
    "import tensorflow as tf\n",
    "import numpy as np\n",
    "tf.reset_default_graph()"
   ]
  },
  {
   "cell_type": "code",
   "execution_count": 2,
   "metadata": {},
   "outputs": [],
   "source": [
    "n_inputs = 2\n",
    "n_hidden1 = 3"
   ]
  },
  {
   "cell_type": "code",
   "execution_count": 3,
   "metadata": {},
   "outputs": [],
   "source": [
    "original_w = np.array([[1., 2., 3.], [4., 5., 6.]]) # Load the weights from the other framework\n",
    "original_b = np.array([7., 8., 9.])                 # Load the biases from the other framework"
   ]
  },
  {
   "cell_type": "code",
   "execution_count": 4,
   "metadata": {},
   "outputs": [
    {
     "name": "stdout",
     "output_type": "stream",
     "text": [
      "WARNING:tensorflow:From <ipython-input-4-f8f648f69a80>:2: dense (from tensorflow.python.layers.core) is deprecated and will be removed in a future version.\n",
      "Instructions for updating:\n",
      "Use keras.layers.Dense instead.\n",
      "WARNING:tensorflow:From /Users/sungchullee/anaconda3/lib/python3.6/site-packages/tensorflow_core/python/layers/core.py:187: Layer.apply (from tensorflow.python.keras.engine.base_layer) is deprecated and will be removed in a future version.\n",
      "Instructions for updating:\n",
      "Please use `layer.__call__` method instead.\n"
     ]
    }
   ],
   "source": [
    "x = tf.placeholder(tf.float32, shape=(None, n_inputs), name=\"x\")\n",
    "hidden1 = tf.layers.dense(x, n_hidden1, name=\"hidden1\")"
   ]
  },
  {
   "cell_type": "code",
   "execution_count": 110,
   "metadata": {},
   "outputs": [
    {
     "name": "stdout",
     "output_type": "stream",
     "text": [
      "Tensor(\"x:0\", shape=(?, 2), dtype=float32)\n",
      "Tensor(\"hidden1/kernel/Initializer/random_uniform/shape:0\", shape=(2,), dtype=int32)\n",
      "Tensor(\"hidden1/kernel/Initializer/random_uniform/min:0\", shape=(), dtype=float32)\n",
      "Tensor(\"hidden1/kernel/Initializer/random_uniform/max:0\", shape=(), dtype=float32)\n",
      "Tensor(\"hidden1/kernel/Initializer/random_uniform/RandomUniform:0\", shape=(2, 3), dtype=float32)\n",
      "Tensor(\"hidden1/kernel/Initializer/random_uniform/sub:0\", shape=(), dtype=float32)\n",
      "Tensor(\"hidden1/kernel/Initializer/random_uniform/mul:0\", shape=(2, 3), dtype=float32)\n",
      "Tensor(\"hidden1/kernel/Initializer/random_uniform:0\", shape=(2, 3), dtype=float32)\n",
      "Tensor(\"hidden1/kernel:0\", shape=(2, 3), dtype=float32_ref)\n",
      "Tensor(\"hidden1/kernel/Assign:0\", shape=(2, 3), dtype=float32_ref)\n",
      "Tensor(\"hidden1/kernel/read:0\", shape=(2, 3), dtype=float32)\n",
      "Tensor(\"hidden1/bias/Initializer/zeros:0\", shape=(3,), dtype=float32)\n",
      "Tensor(\"hidden1/bias:0\", shape=(3,), dtype=float32_ref)\n",
      "Tensor(\"hidden1/bias/Assign:0\", shape=(3,), dtype=float32_ref)\n",
      "Tensor(\"hidden1/bias/read:0\", shape=(3,), dtype=float32)\n",
      "Tensor(\"hidden1/MatMul:0\", shape=(?, 3), dtype=float32)\n",
      "Tensor(\"hidden1/BiasAdd:0\", shape=(?, 3), dtype=float32)\n"
     ]
    }
   ],
   "source": [
    "g = tf.get_default_graph()\n",
    "ops = g.get_operations()\n",
    "for op in ops:\n",
    "    for tensor in op.outputs:\n",
    "        print(tensor)"
   ]
  },
  {
   "cell_type": "code",
   "execution_count": 111,
   "metadata": {},
   "outputs": [
    {
     "data": {
      "text/plain": [
       "[<tf.Variable 'hidden1/kernel:0' shape=(2, 3) dtype=float32_ref>,\n",
       " <tf.Variable 'hidden1/bias:0' shape=(3,) dtype=float32_ref>]"
      ]
     },
     "execution_count": 111,
     "metadata": {},
     "output_type": "execute_result"
    }
   ],
   "source": [
    "tf.get_collection('trainable_variables')"
   ]
  },
  {
   "cell_type": "code",
   "execution_count": 5,
   "metadata": {},
   "outputs": [],
   "source": [
    "# g = tf.get_default_graph()\n",
    "# w = g.get_tensor_by_name('hidden1/kernel:0')\n",
    "# b = g.get_tensor_by_name('hidden1/bias:0')\n",
    "# w_placeholder = tf.placeholder(tf.float32, shape=(n_inputs, n_hidden1))\n",
    "# b_placeholder = tf.placeholder(tf.float32, shape=n_hidden1)\n",
    "# original_w = np.array([[1., 2., 3.], [4., 5., 6.]]) \n",
    "# original_b = np.array([7., 8., 9.])   \n",
    "# assign_w = tf.assign(w, w_placeholder)\n",
    "# assign_b = tf.assign(b, b_placeholder)\n",
    "\n",
    "g = tf.get_default_graph()\n",
    "w_placeholder = g.get_operation_by_name(\"hidden1/kernel/Assign\").inputs[1]\n",
    "b_placeholder = g.get_operation_by_name(\"hidden1/bias/Assign\").inputs[1]\n",
    "\n",
    "w = g.get_tensor_by_name('hidden1/kernel:0')\n",
    "b = g.get_tensor_by_name('hidden1/bias:0')"
   ]
  },
  {
   "cell_type": "code",
   "execution_count": 6,
   "metadata": {},
   "outputs": [],
   "source": [
    "init = tf.global_variables_initializer()"
   ]
  },
  {
   "cell_type": "code",
   "execution_count": 7,
   "metadata": {},
   "outputs": [
    {
     "name": "stdout",
     "output_type": "stream",
     "text": [
      "[array([[1., 2., 3.],\n",
      "       [4., 5., 6.]], dtype=float32), array([7., 8., 9.], dtype=float32)]\n"
     ]
    }
   ],
   "source": [
    "with tf.Session() as sess:\n",
    "    #sess.run(init)\n",
    "    feed_dict = {w_placeholder: original_w, b_placeholder: original_b}\n",
    "    sess.run(init, feed_dict=feed_dict)\n",
    "    print(sess.run([w, b]))"
   ]
  },
  {
   "cell_type": "code",
   "execution_count": null,
   "metadata": {},
   "outputs": [],
   "source": []
  }
 ],
 "metadata": {
  "kernelspec": {
   "display_name": "Python 3",
   "language": "python",
   "name": "python3"
  },
  "language_info": {
   "codemirror_mode": {
    "name": "ipython",
    "version": 3
   },
   "file_extension": ".py",
   "mimetype": "text/x-python",
   "name": "python",
   "nbconvert_exporter": "python",
   "pygments_lexer": "ipython3",
   "version": "3.6.9"
  }
 },
 "nbformat": 4,
 "nbformat_minor": 2
}
