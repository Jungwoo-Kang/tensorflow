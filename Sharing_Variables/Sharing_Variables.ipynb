{
 "cells": [
  {
   "cell_type": "markdown",
   "metadata": {},
   "source": [
    "# Sharing_Variables"
   ]
  },
  {
   "cell_type": "markdown",
   "metadata": {},
   "source": [
    "googlesource.com [blog](https://chromium.googlesource.com/external/github.com/tensorflow/tensorflow/+/r0.7/tensorflow/g3doc/how_tos/variable_scope/index.md)"
   ]
  },
  {
   "cell_type": "markdown",
   "metadata": {},
   "source": [
    "# Fail to share variables"
   ]
  },
  {
   "cell_type": "markdown",
   "metadata": {},
   "source": [
    "tf.Variable always creates a new one."
   ]
  },
  {
   "cell_type": "code",
   "execution_count": 1,
   "metadata": {},
   "outputs": [
    {
     "name": "stdout",
     "output_type": "stream",
     "text": [
      "[<tf.Variable 'W:0' shape=(32, 10) dtype=float32_ref>, <tf.Variable 'b:0' shape=(10,) dtype=float32_ref>]\n",
      "[<tf.Variable 'W:0' shape=(32, 10) dtype=float32_ref>, <tf.Variable 'b:0' shape=(10,) dtype=float32_ref>, <tf.Variable 'W_1:0' shape=(32, 10) dtype=float32_ref>, <tf.Variable 'b_1:0' shape=(10,) dtype=float32_ref>]\n"
     ]
    }
   ],
   "source": [
    "import tensorflow as tf\n",
    "tf.reset_default_graph()\n",
    "\n",
    "def my_op(x):\n",
    "    W = tf.Variable(tf.random_normal([32, 10]), name=\"W\")\n",
    "    b = tf.Variable(tf.zeros([10]), name=\"b\")\n",
    "    return x @ W + b\n",
    "\n",
    "image1 = tf.placeholder(tf.float32, shape=(None, 32), name='image1')\n",
    "image2 = tf.placeholder(tf.float32, shape=(None, 32), name='image2')\n",
    "\n",
    "result1 = my_op(image1)\n",
    "print(tf.get_collection(tf.GraphKeys.TRAINABLE_VARIABLES))\n",
    "\n",
    "result2 = my_op(image2)\n",
    "print(tf.get_collection(tf.GraphKeys.TRAINABLE_VARIABLES))"
   ]
  },
  {
   "cell_type": "markdown",
   "metadata": {},
   "source": [
    "# First Solution - variables_dict"
   ]
  },
  {
   "cell_type": "markdown",
   "metadata": {},
   "source": [
    "A common way to share variables is to create them in a separate piece of code and pass them to functions that use them. \n",
    "\n",
    "While convenient, creating variables like above, outside of the code, breaks encapsulation:\n",
    "\n",
    "- The code that builds the graph must document the names, types, and shapes of variables to create.\n",
    "- When the code changes, the callers may have to create more, or less, or different variables.\n",
    "\n",
    "https://chromium.googlesource.com/external/github.com/tensorflow/tensorflow/+/r0.7/tensorflow/g3doc/how_tos/variable_scope/index.md"
   ]
  },
  {
   "cell_type": "code",
   "execution_count": 1,
   "metadata": {},
   "outputs": [
    {
     "name": "stdout",
     "output_type": "stream",
     "text": [
      "[<tf.Variable 'W:0' shape=(32, 10) dtype=float32_ref>, <tf.Variable 'b:0' shape=(10,) dtype=float32_ref>]\n",
      "[<tf.Variable 'W:0' shape=(32, 10) dtype=float32_ref>, <tf.Variable 'b:0' shape=(10,) dtype=float32_ref>]\n"
     ]
    }
   ],
   "source": [
    "import tensorflow as tf\n",
    "tf.reset_default_graph()\n",
    "\n",
    "variables_dict = {\"weight\": tf.Variable(tf.random_normal([32, 10]), name=\"W\"), \\\n",
    "                  \"bias\": tf.Variable(tf.zeros([10]), name=\"b\")}\n",
    "\n",
    "def my_op(x, variables_dict):\n",
    "    return x @ variables_dict['weight'] + variables_dict['bias']\n",
    "\n",
    "image1 = tf.placeholder(tf.float32, shape=(None, 32), name='image1')\n",
    "image2 = tf.placeholder(tf.float32, shape=(None, 32), name='image2')\n",
    "\n",
    "result1 = my_op(image1, variables_dict)\n",
    "print(tf.get_collection(tf.GraphKeys.TRAINABLE_VARIABLES))\n",
    "\n",
    "result2 = my_op(image2, variables_dict)\n",
    "print(tf.get_collection(tf.GraphKeys.TRAINABLE_VARIABLES))"
   ]
  },
  {
   "cell_type": "markdown",
   "metadata": {},
   "source": [
    "# Second Solution - tf.get_variable"
   ]
  },
  {
   "cell_type": "markdown",
   "metadata": {},
   "source": [
    "tf.Variable always creates a new one."
   ]
  },
  {
   "cell_type": "markdown",
   "metadata": {},
   "source": [
    "tf.get_variable either shares or creates a new one:\n",
    "\n",
    "- Case 1: If there is no variable with given name (including prefix) used yet, it creates a new one.\n",
    "\n",
    "- Case 2: If there is a variable with given name (including prefix) used before and if we declare to reuse, it uses or shares the old one. \n",
    "\n",
    "- Case 3: If there is a variable with given name (including prefix) used before but if we don't declare to reuse, it raises ValueError. "
   ]
  },
  {
   "cell_type": "code",
   "execution_count": null,
   "metadata": {},
   "outputs": [],
   "source": [
    "import tensorflow as tf\n",
    "tf.reset_default_graph()\n",
    "\n",
    "with tf.variable_scope(\"one\"):\n",
    "    a = tf.get_variable(\"v\", shape=[1]) \n",
    "with tf.variable_scope(\"one\", reuse=True):\n",
    "    b = tf.get_variable(\"v\", shape=[1]) \n",
    "    \n",
    "init = tf.global_variables_initializer()\n",
    "    \n",
    "assert(a is b)  # Assertion is true; they are same objects\n",
    "print(a)\n",
    "print(b)\n",
    "\n",
    "with tf.Session() as sess:\n",
    "    init.run()\n",
    "    print(sess.run([a, b]))"
   ]
  },
  {
   "cell_type": "code",
   "execution_count": null,
   "metadata": {},
   "outputs": [],
   "source": [
    "import tensorflow as tf\n",
    "tf.reset_default_graph()\n",
    "\n",
    "with tf.variable_scope(\"one\"):\n",
    "    a = tf.get_variable(\"v\", shape=[1]) \n",
    "    tf.get_variable_scope().reuse_variables()\n",
    "    b = tf.get_variable(\"v\", shape=[1]) \n",
    "    \n",
    "init = tf.global_variables_initializer()\n",
    "    \n",
    "assert(a is b)  # Assertion is true; they are same objects\n",
    "print(a)\n",
    "print(b)\n",
    "\n",
    "with tf.Session() as sess:\n",
    "    init.run()\n",
    "    print(sess.run([a, b]))"
   ]
  },
  {
   "cell_type": "code",
   "execution_count": null,
   "metadata": {},
   "outputs": [],
   "source": [
    "import tensorflow as tf\n",
    "tf.reset_default_graph()\n",
    "\n",
    "with tf.variable_scope(\"one\", reuse=tf.AUTO_REUSE):\n",
    "    a = tf.get_variable(\"v\", shape=[1]) \n",
    "    b = tf.get_variable(\"v\", shape=[1]) \n",
    "    \n",
    "init = tf.global_variables_initializer()\n",
    "    \n",
    "assert(a is b)  # Assertion is true; they are same objects\n",
    "print(a)\n",
    "print(b)\n",
    "\n",
    "with tf.Session() as sess:\n",
    "    init.run()\n",
    "    print(sess.run([a, b]))"
   ]
  },
  {
   "cell_type": "code",
   "execution_count": null,
   "metadata": {},
   "outputs": [],
   "source": []
  },
  {
   "cell_type": "code",
   "execution_count": null,
   "metadata": {},
   "outputs": [],
   "source": []
  },
  {
   "cell_type": "code",
   "execution_count": null,
   "metadata": {},
   "outputs": [],
   "source": []
  },
  {
   "cell_type": "code",
   "execution_count": null,
   "metadata": {},
   "outputs": [],
   "source": []
  }
 ],
 "metadata": {
  "kernelspec": {
   "display_name": "Python 3",
   "language": "python",
   "name": "python3"
  },
  "language_info": {
   "codemirror_mode": {
    "name": "ipython",
    "version": 3
   },
   "file_extension": ".py",
   "mimetype": "text/x-python",
   "name": "python",
   "nbconvert_exporter": "python",
   "pygments_lexer": "ipython3",
   "version": "3.6.9"
  }
 },
 "nbformat": 4,
 "nbformat_minor": 2
}
