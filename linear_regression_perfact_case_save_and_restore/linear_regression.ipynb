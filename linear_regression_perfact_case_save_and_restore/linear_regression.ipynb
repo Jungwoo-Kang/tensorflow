{
 "cells": [
  {
   "cell_type": "code",
   "execution_count": 1,
   "metadata": {},
   "outputs": [
    {
     "name": "stderr",
     "output_type": "stream",
     "text": [
      "/Users/sungchullee/opt/anaconda3/envs/gym/lib/python3.7/site-packages/tensorflow/python/framework/dtypes.py:526: FutureWarning: Passing (type, 1) or '1type' as a synonym of type is deprecated; in a future version of numpy, it will be understood as (type, (1,)) / '(1,)type'.\n",
      "  _np_qint8 = np.dtype([(\"qint8\", np.int8, 1)])\n",
      "/Users/sungchullee/opt/anaconda3/envs/gym/lib/python3.7/site-packages/tensorflow/python/framework/dtypes.py:527: FutureWarning: Passing (type, 1) or '1type' as a synonym of type is deprecated; in a future version of numpy, it will be understood as (type, (1,)) / '(1,)type'.\n",
      "  _np_quint8 = np.dtype([(\"quint8\", np.uint8, 1)])\n",
      "/Users/sungchullee/opt/anaconda3/envs/gym/lib/python3.7/site-packages/tensorflow/python/framework/dtypes.py:528: FutureWarning: Passing (type, 1) or '1type' as a synonym of type is deprecated; in a future version of numpy, it will be understood as (type, (1,)) / '(1,)type'.\n",
      "  _np_qint16 = np.dtype([(\"qint16\", np.int16, 1)])\n",
      "/Users/sungchullee/opt/anaconda3/envs/gym/lib/python3.7/site-packages/tensorflow/python/framework/dtypes.py:529: FutureWarning: Passing (type, 1) or '1type' as a synonym of type is deprecated; in a future version of numpy, it will be understood as (type, (1,)) / '(1,)type'.\n",
      "  _np_quint16 = np.dtype([(\"quint16\", np.uint16, 1)])\n",
      "/Users/sungchullee/opt/anaconda3/envs/gym/lib/python3.7/site-packages/tensorflow/python/framework/dtypes.py:530: FutureWarning: Passing (type, 1) or '1type' as a synonym of type is deprecated; in a future version of numpy, it will be understood as (type, (1,)) / '(1,)type'.\n",
      "  _np_qint32 = np.dtype([(\"qint32\", np.int32, 1)])\n",
      "/Users/sungchullee/opt/anaconda3/envs/gym/lib/python3.7/site-packages/tensorflow/python/framework/dtypes.py:535: FutureWarning: Passing (type, 1) or '1type' as a synonym of type is deprecated; in a future version of numpy, it will be understood as (type, (1,)) / '(1,)type'.\n",
      "  np_resource = np.dtype([(\"resource\", np.ubyte, 1)])\n"
     ]
    },
    {
     "name": "stdout",
     "output_type": "stream",
     "text": [
      "WARNING:tensorflow:From /Users/sungchullee/opt/anaconda3/envs/gym/lib/python3.7/site-packages/tensorflow/python/framework/op_def_library.py:263: colocate_with (from tensorflow.python.framework.ops) is deprecated and will be removed in a future version.\n",
      "Instructions for updating:\n",
      "Colocations handled automatically by placer.\n",
      "WARNING:tensorflow:From /Users/sungchullee/opt/anaconda3/envs/gym/lib/python3.7/site-packages/tensorflow/python/training/saver.py:1266: checkpoint_exists (from tensorflow.python.training.checkpoint_management) is deprecated and will be removed in a future version.\n",
      "Instructions for updating:\n",
      "Use standard file APIs to check for files with this prefix.\n",
      "INFO:tensorflow:Restoring parameters from temp/savefiles/model_1\n"
     ]
    },
    {
     "data": {
      "image/png": "[encoded data removed]",
      "text/plain": [
       "<Figure size 432x288 with 1 Axes>"
      ]
     },
     "metadata": {
      "needs_background": "light"
     },
     "output_type": "display_data"
    }
   ],
   "source": [
    "%matplotlib inline\n",
    "import tensorflow as tf\n",
    "import numpy as np\n",
    "import matplotlib.pyplot as plt\n",
    "import os\n",
    "\n",
    "lr = 1e-2\n",
    "epoch = int(1e3)\n",
    "\n",
    "x_data = np.array([[1.],[2.],[3.],[4.]]).astype(np.float32) # (4,1)\n",
    "y_data = np.array([[1.],[2.],[3.],[4.]]).astype(np.float32) # (4,1)\n",
    "\n",
    "x = tf.placeholder(tf.float32, shape=(None,1), name='x') # (4,1)\n",
    "y = tf.placeholder(tf.float32, shape=(None,1), name='y') # (4,1)\n",
    "\n",
    "if 0:\n",
    "    alpha = tf.get_variable('alpha', (), dtype=tf.float32, initializer=tf.keras.initializers.constant(0.0))\n",
    "    beta = tf.get_variable('beta', (1,1), dtype=tf.float32, initializer=tf.keras.initializers.constant(1.0))\n",
    "elif 1:\n",
    "    alpha = tf.get_variable('alpha', (), dtype=tf.float32, initializer=tf.keras.initializers.constant(0.5))\n",
    "    beta = tf.get_variable('beta', (1,1), dtype=tf.float32, initializer=tf.keras.initializers.constant(0.5))\n",
    "elif 0:\n",
    "    alpha = tf.get_variable('alpha', (), dtype=tf.float32, initializer=tf.keras.initializers.constant(0.0))\n",
    "    beta = tf.get_variable('beta', (1,1), dtype=tf.float32, initializer=tf.keras.initializers.RandomUniform())\n",
    "elif 1:\n",
    "    alpha = tf.get_variable('alpha', (), dtype=tf.float32, initializer=tf.keras.initializers.constant(0.0))\n",
    "    beta = tf.get_variable('beta', (1,1), dtype=tf.float32, initializer=tf.keras.initializers.RandomNormal())\n",
    "\n",
    "y_pred = tf.identity(alpha + x @ beta, name='y_pred')\n",
    "loss = tf.nn.l2_loss(y-y_pred)\n",
    "train = tf.train.GradientDescentOptimizer(learning_rate=lr).minimize(loss)\n",
    "\n",
    "with tf.Session() as sess:\n",
    "    \n",
    "    tf.global_variables_initializer().run()\n",
    "    \n",
    "    feed_dict = {x:x_data, y:y_data}\n",
    "    for i in range(epoch):\n",
    "        sess.run(train, feed_dict=feed_dict)  \n",
    "    \n",
    "    saver = tf.train.Saver()\n",
    "    save_dir = 'temp/savefiles' \n",
    "    save_path = 'temp/savefiles/model_1'\n",
    "    if not os.path.isdir(save_dir):\n",
    "        os.makedirs(save_dir)\n",
    "    saver.save(sess=sess, save_path=save_path)\n",
    "    \n",
    "with tf.Session() as sess:\n",
    "    \n",
    "    save_path = 'temp/savefiles/model_1'\n",
    "    saver = tf.train.import_meta_graph(save_path + '.meta', clear_devices=True)\n",
    "    saver.restore(sess=sess, save_path=save_path)\n",
    "\n",
    "    x = sess.graph.get_tensor_by_name('x:0')\n",
    "    y = sess.graph.get_tensor_by_name('y:0')\n",
    "    y_pred = sess.graph.get_tensor_by_name('y_pred:0')\n",
    "    \n",
    "    feed_dict = {x:x_data, y:y_data}   \n",
    "    y_pred_run = sess.run(y_pred, feed_dict=feed_dict)\n",
    "\n",
    "fig, ax = plt.subplots(1, 1)\n",
    "ax.plot(x_data.reshape((-1,)), y_data.reshape((-1,)), 'o')\n",
    "ax.plot(x_data.reshape((-1,)), y_pred_run.reshape((-1,)))\n",
    "plt.show()"
   ]
  },
  {
   "cell_type": "code",
   "execution_count": null,
   "metadata": {},
   "outputs": [],
   "source": []
  },
  {
   "cell_type": "code",
   "execution_count": null,
   "metadata": {},
   "outputs": [],
   "source": []
  }
 ],
 "metadata": {
  "kernelspec": {
   "display_name": "Python [conda env:gym]",
   "language": "python",
   "name": "conda-env-gym-py"
  },
  "language_info": {
   "codemirror_mode": {
    "name": "ipython",
    "version": 3
   },
   "file_extension": ".py",
   "mimetype": "text/x-python",
   "name": "python",
   "nbconvert_exporter": "python",
   "pygments_lexer": "ipython3",
   "version": "3.7.4"
  }
 },
 "nbformat": 4,
 "nbformat_minor": 2
}
