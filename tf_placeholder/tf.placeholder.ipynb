{
 "cells": [
  {
   "cell_type": "code",
   "execution_count": 1,
   "metadata": {},
   "outputs": [
    {
     "name": "stdout",
     "output_type": "stream",
     "text": [
      "[[1.]\n",
      " [2.]\n",
      " [3.]\n",
      " [4.]] 0.0\n"
     ]
    }
   ],
   "source": [
    "import tensorflow as tf\n",
    "import numpy as np\n",
    "tf.reset_default_graph()\n",
    "tf.set_random_seed(0)\n",
    "np.random.seed(0)\n",
    "\n",
    "x_data = np.array([[1.],[2.],[3.],[4.]]).astype(np.float32) # (4,1)\n",
    "y_data = np.array([[1.],[2.],[3.],[4.]]).astype(np.float32) # (4,1)\n",
    "\n",
    "x = tf.placeholder(tf.float32, (4,1)) # (4,1)\n",
    "y = tf.placeholder(tf.float32, (4,1)) # (4,1)\n",
    "\n",
    "alpha = tf.get_variable('alpha', (), tf.float32, tf.keras.initializers.zeros())\n",
    "beta = tf.get_variable('beta', (), tf.float32, tf.keras.initializers.ones())\n",
    "\n",
    "y_pred = alpha + beta * x\n",
    "loss = tf.reduce_mean((y-y_pred)**2)\n",
    "\n",
    "with tf.Session() as sess:\n",
    "    \n",
    "    tf.global_variables_initializer().run()\n",
    "    \n",
    "    feed_dict = {x:x_data, y:y_data}\n",
    "    y_pred_run, loss_run = sess.run([y_pred, loss], feed_dict=feed_dict)\n",
    "    print(y_pred_run, loss_run) "
   ]
  },
  {
   "cell_type": "code",
   "execution_count": 2,
   "metadata": {},
   "outputs": [
    {
     "name": "stdout",
     "output_type": "stream",
     "text": [
      "[[1.]\n",
      " [2.]\n",
      " [3.]\n",
      " [4.]] 0.0\n"
     ]
    }
   ],
   "source": [
    "import tensorflow as tf\n",
    "import numpy as np\n",
    "tf.reset_default_graph()\n",
    "tf.set_random_seed(0)\n",
    "np.random.seed(0)\n",
    "\n",
    "x_data = np.array([[1.],[2.],[3.],[4.]]).astype(np.float32) # (4,1)\n",
    "y_data = np.array([[1.],[2.],[3.],[4.]]).astype(np.float32) # (4,1)\n",
    "\n",
    "x = tf.placeholder(tf.float32, (None,1)) # (None,1)\n",
    "y = tf.placeholder(tf.float32, (None,1)) # (None,1)\n",
    "\n",
    "alpha = tf.get_variable('alpha', (), tf.float32, tf.keras.initializers.zeros())\n",
    "beta = tf.get_variable('beta', (), tf.float32, tf.keras.initializers.ones())\n",
    "\n",
    "y_pred = alpha + beta * x\n",
    "loss = tf.reduce_mean((y-y_pred)**2)\n",
    "\n",
    "with tf.Session() as sess:\n",
    "    \n",
    "    tf.global_variables_initializer().run()\n",
    "    \n",
    "    feed_dict = {x:x_data, y:y_data}\n",
    "    y_pred_run, loss_run = sess.run([y_pred, loss], feed_dict=feed_dict)\n",
    "    print(y_pred_run, loss_run) "
   ]
  },
  {
   "cell_type": "code",
   "execution_count": null,
   "metadata": {},
   "outputs": [],
   "source": []
  }
 ],
 "metadata": {
  "kernelspec": {
   "display_name": "Python 3",
   "language": "python",
   "name": "python3"
  },
  "language_info": {
   "codemirror_mode": {
    "name": "ipython",
    "version": 3
   },
   "file_extension": ".py",
   "mimetype": "text/x-python",
   "name": "python",
   "nbconvert_exporter": "python",
   "pygments_lexer": "ipython3",
   "version": "3.6.9"
  }
 },
 "nbformat": 4,
 "nbformat_minor": 2
}
