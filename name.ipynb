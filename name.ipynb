{
 "cells": [
  {
   "cell_type": "markdown",
   "metadata": {},
   "source": [
    "# name"
   ]
  },
  {
   "cell_type": "code",
   "execution_count": 1,
   "metadata": {},
   "outputs": [
    {
     "name": "stdout",
     "output_type": "stream",
     "text": [
      "Const:0\n",
      "Const_1:0\n",
      "Const_2:0\n",
      "Const_3:0\n",
      "e:0\n",
      "f:0\n"
     ]
    }
   ],
   "source": [
    "import tensorflow as tf\n",
    "\n",
    "a = tf.constant(2)\n",
    "print(a.name)\n",
    "\n",
    "b = tf.constant(2)\n",
    "print(b.name)\n",
    "\n",
    "c = tf.constant(2)\n",
    "print(c.name)\n",
    "\n",
    "d = tf.constant(2)\n",
    "print(d.name)\n",
    "\n",
    "e = tf.constant(2, name='e')\n",
    "print(e.name)\n",
    "\n",
    "f = tf.constant(2, name='f')\n",
    "print(f.name)"
   ]
  },
  {
   "cell_type": "code",
   "execution_count": 2,
   "metadata": {},
   "outputs": [
    {
     "name": "stdout",
     "output_type": "stream",
     "text": [
      "Add:0\n",
      "Add_1:0\n",
      "ok_enough:0\n"
     ]
    }
   ],
   "source": [
    "import tensorflow as tf\n",
    "\n",
    "a = tf.constant(2)\n",
    "b = tf.constant(2)\n",
    "\n",
    "x = tf.add(a, b)\n",
    "print(x.name)\n",
    "\n",
    "y = tf.add(a, b)\n",
    "print(y.name)\n",
    "\n",
    "z = tf.add(a, b, name='ok_enough')\n",
    "print(z.name)"
   ]
  },
  {
   "cell_type": "markdown",
   "metadata": {},
   "source": [
    "<p>Your observations on <code>Tensor</code> naming are absolutely correct: the name of a <code>Tensor</code> is the concatenation of </p>\n",
    "\n",
    "<ol>\n",
    "<li>the name of the operation that produced it, </li>\n",
    "<li>a colon (<code>:</code>), and </li>\n",
    "<li>the index of that tensor in the outputs of the operation that produced it. </li>\n",
    "</ol>\n",
    "\n",
    "<p>Therefore the tensor named <code>\"foo:2\"</code> is the output of the op named <code>\"foo\"</code> at position 2 (with indices starting from zero).</p>\n",
    "\n",
    "https://stackoverflow.com/questions/36150834/how-does-tensorflow-name-tensors"
   ]
  }
 ],
 "metadata": {
  "kernelspec": {
   "display_name": "Python 3",
   "language": "python",
   "name": "python3"
  },
  "language_info": {
   "codemirror_mode": {
    "name": "ipython",
    "version": 3
   },
   "file_extension": ".py",
   "mimetype": "text/x-python",
   "name": "python",
   "nbconvert_exporter": "python",
   "pygments_lexer": "ipython3",
   "version": "3.5.0"
  }
 },
 "nbformat": 4,
 "nbformat_minor": 2
}
