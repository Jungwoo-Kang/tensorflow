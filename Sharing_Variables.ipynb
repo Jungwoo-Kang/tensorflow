{
 "cells": [
  {
   "cell_type": "markdown",
   "metadata": {},
   "source": [
    "# Sharing_Variables"
   ]
  },
  {
   "cell_type": "markdown",
   "metadata": {},
   "source": [
    "googlesource.com [blog](https://chromium.googlesource.com/external/github.com/tensorflow/tensorflow/+/r0.7/tensorflow/g3doc/how_tos/variable_scope/index.md)"
   ]
  },
  {
   "cell_type": "markdown",
   "metadata": {},
   "source": [
    "# Fail to share variables"
   ]
  },
  {
   "cell_type": "code",
   "execution_count": 1,
   "metadata": {},
   "outputs": [
    {
     "name": "stderr",
     "output_type": "stream",
     "text": [
      "/Users/sungchul/anaconda/lib/python3.5/importlib/_bootstrap.py:222: RuntimeWarning: compiletime version 3.6 of module 'tensorflow.python.framework.fast_tensor_util' does not match runtime version 3.5\n",
      "  return f(*args, **kwds)\n",
      "/Users/sungchul/anaconda/lib/python3.5/site-packages/h5py/__init__.py:36: FutureWarning: Conversion of the second argument of issubdtype from `float` to `np.floating` is deprecated. In future, it will be treated as `np.float64 == np.dtype(float).type`.\n",
      "  from ._conv import register_converters as _register_converters\n"
     ]
    },
    {
     "name": "stdout",
     "output_type": "stream",
     "text": [
      "trainable_variables\n",
      "[<tf.Variable 'W:0' shape=(32, 10) dtype=float32_ref>, <tf.Variable 'b:0' shape=(10,) dtype=float32_ref>, <tf.Variable 'W_1:0' shape=(32, 10) dtype=float32_ref>, <tf.Variable 'b_1:0' shape=(10,) dtype=float32_ref>]\n"
     ]
    }
   ],
   "source": [
    "import tensorflow as tf\n",
    "\n",
    "def my_op(x):\n",
    "    W = tf.Variable(tf.random_normal([32, 10]), name=\"W\")\n",
    "    b = tf.Variable(tf.zeros([10]), name=\"b\")\n",
    "    return x @ W + b\n",
    "\n",
    "image1 = tf.placeholder(tf.float32, shape=(None, 32), name='image1')\n",
    "image2 = tf.placeholder(tf.float32, shape=(None, 32), name='image2')\n",
    "\n",
    "# First call creates one set of variables.\n",
    "# <tf.Variable 'W:0' shape=(32, 10) dtype=float32_ref>\n",
    "# <tf.Variable 'b:0' shape=(10,) dtype=float32_ref>\n",
    "result1 = my_op(image1)\n",
    "\n",
    "# Another set is created in the second call.\n",
    "# <tf.Variable 'W_1:0' shape=(32, 10) dtype=float32_ref>\n",
    "# <tf.Variable 'b_1:0' shape=(10,) dtype=float32_ref>\n",
    "result2 = my_op(image2)\n",
    "\n",
    "print(tf.GraphKeys.TRAINABLE_VARIABLES)\n",
    "print(tf.get_collection(tf.GraphKeys.TRAINABLE_VARIABLES))"
   ]
  },
  {
   "cell_type": "markdown",
   "metadata": {},
   "source": [
    "# First Solution - variables_dict"
   ]
  },
  {
   "cell_type": "markdown",
   "metadata": {},
   "source": [
    "A common way to share variables is to create them in a separate piece of code and pass them to functions that use them. \n",
    "\n",
    "While convenient, creating variables like above, outside of the code, breaks encapsulation:\n",
    "\n",
    "- The code that builds the graph must document the names, types, and shapes of variables to create.\n",
    "- When the code changes, the callers may have to create more, or less, or different variables.\n",
    "\n",
    "https://chromium.googlesource.com/external/github.com/tensorflow/tensorflow/+/r0.7/tensorflow/g3doc/how_tos/variable_scope/index.md"
   ]
  },
  {
   "cell_type": "code",
   "execution_count": 1,
   "metadata": {},
   "outputs": [
    {
     "name": "stderr",
     "output_type": "stream",
     "text": [
      "/Users/sungchul/anaconda/lib/python3.5/importlib/_bootstrap.py:222: RuntimeWarning: compiletime version 3.6 of module 'tensorflow.python.framework.fast_tensor_util' does not match runtime version 3.5\n",
      "  return f(*args, **kwds)\n",
      "/Users/sungchul/anaconda/lib/python3.5/site-packages/h5py/__init__.py:36: FutureWarning: Conversion of the second argument of issubdtype from `float` to `np.floating` is deprecated. In future, it will be treated as `np.float64 == np.dtype(float).type`.\n",
      "  from ._conv import register_converters as _register_converters\n"
     ]
    },
    {
     "name": "stdout",
     "output_type": "stream",
     "text": [
      "trainable_variables\n",
      "[<tf.Variable 'W:0' shape=(32, 10) dtype=float32_ref>, <tf.Variable 'b:0' shape=(10,) dtype=float32_ref>]\n"
     ]
    }
   ],
   "source": [
    "import tensorflow as tf\n",
    "\n",
    "variables_dict = {\"weight\": tf.Variable(tf.random_normal([32, 10]), name=\"W\"), \\\n",
    "                  \"bias\": tf.Variable(tf.zeros([10]), name=\"b\")}\n",
    "\n",
    "def my_op(x, variables_dict):\n",
    "    return x @ variables_dict['weight'] + variables_dict['bias']\n",
    "\n",
    "image1 = tf.placeholder(tf.float32, shape=(None, 32), name='image1')\n",
    "image2 = tf.placeholder(tf.float32, shape=(None, 32), name='image2')\n",
    "\n",
    "# First call creates one set of variables.\n",
    "# <tf.Variable 'W:0' shape=(32, 10) dtype=float32_ref>\n",
    "# <tf.Variable 'b:0' shape=(10,) dtype=float32_ref>\n",
    "result1 = my_op(image1, variables_dict)\n",
    "\n",
    "# The same variables set is reused in the second call.\n",
    "# <tf.Variable 'W:0' shape=(32, 10) dtype=float32_ref>\n",
    "# <tf.Variable 'b:0' shape=(10,) dtype=float32_ref>\n",
    "result2 = my_op(image2, variables_dict)\n",
    "\n",
    "print(tf.GraphKeys.TRAINABLE_VARIABLES)\n",
    "print(tf.get_collection(tf.GraphKeys.TRAINABLE_VARIABLES))"
   ]
  },
  {
   "cell_type": "markdown",
   "metadata": {},
   "source": [
    "# Second Solution - tf.get_variable"
   ]
  },
  {
   "cell_type": "markdown",
   "metadata": {},
   "source": [
    "tf.get_variable either shares or creates a new one:\n",
    "\n",
    "- Case 1: If there is no variable with given name (including prefix) used yet, it creates a new one.\n",
    "\n",
    "- Case 2: If there is a variable with given name (including prefix) used before and if we declare to reuse, it uses or shares the old one. \n",
    "\n",
    "- Case 3: If there is a variable with given name (including prefix) used before but if we don't declare to reuse, it raises ValueError. "
   ]
  },
  {
   "cell_type": "code",
   "execution_count": null,
   "metadata": {},
   "outputs": [],
   "source": [
    "import tensorflow as tf\n",
    "\n",
    "if 1:\n",
    "    # ValueError: Variable v already exists, disallowed. \n",
    "    # Did you mean to set reuse=True or reuse=tf.AUTO_REUSE in VarScope? \n",
    "    a = tf.get_variable(\"v\", shape=[1]) \n",
    "    b = tf.get_variable(\"v\", shape=[1])\n",
    "elif 1:\n",
    "    # TypeError: get_variable() got an unexpected keyword argument 'reuse'\n",
    "    a = tf.get_variable(\"v\", shape=[1]) \n",
    "    b = tf.get_variable(\"v\", shape=[1], reuse=True)\n",
    "elif 1:\n",
    "    # ValueError: Variable one/v already exists, disallowed. \n",
    "    # Did you mean to set reuse=True or reuse=tf.AUTO_REUSE in VarScope? \n",
    "    with tf.variable_scope(\"one\"):\n",
    "        a = tf.get_variable(\"v\", shape=[1]) \n",
    "    with tf.variable_scope(\"one\"):\n",
    "        b = tf.get_variable(\"v\", shape=[1]) \n",
    "elif 1:\n",
    "    with tf.variable_scope(\"one\"):\n",
    "        a = tf.get_variable(\"v\", shape=[1]) \n",
    "    with tf.variable_scope(\"one\", reuse=True):\n",
    "        b = tf.get_variable(\"v\", shape=[1]) \n",
    "elif 1:\n",
    "    with tf.variable_scope(\"one\"):\n",
    "        a = tf.get_variable(\"v\", shape=[1]) \n",
    "        tf.get_variable_scope().reuse_variables()\n",
    "        b = tf.get_variable(\"v\", shape=[1]) \n",
    "\n",
    "assert(a is b)  #Assertion is true, they refer to the same object.\n",
    "\n",
    "print(a.name)\n",
    "print(b.name)\n",
    "\n",
    "print(hex(id(a)))\n",
    "print(hex(id(b)))\n",
    "\n",
    "with tf.Session() as sess:\n",
    "    tf.global_variables_initializer().run()\n",
    "    \n",
    "    print(sess.run([a, b]))"
   ]
  },
  {
   "cell_type": "markdown",
   "metadata": {},
   "source": [
    "In all examples presented above, we shared parameters only because their names agreed, that is, because we opened a reusing variable scope with exactly the same string. In more complex cases, it might be useful to pass a VariableScope object rather than rely on getting the names right. To this end, variable scopes can be captured and used instead of names when opening a new variable scope.\n",
    "\n",
    "https://chromium.googlesource.com/external/github.com/tensorflow/tensorflow/+/r0.7/tensorflow/g3doc/how_tos/variable_scope/index.md"
   ]
  },
  {
   "cell_type": "markdown",
   "metadata": {},
   "source": [
    "# tf.variable_scope"
   ]
  },
  {
   "cell_type": "code",
   "execution_count": 1,
   "metadata": {},
   "outputs": [
    {
     "name": "stderr",
     "output_type": "stream",
     "text": [
      "/Users/sungchul/anaconda/lib/python3.5/importlib/_bootstrap.py:222: RuntimeWarning: compiletime version 3.6 of module 'tensorflow.python.framework.fast_tensor_util' does not match runtime version 3.5\n",
      "  return f(*args, **kwds)\n",
      "/Users/sungchul/anaconda/lib/python3.5/site-packages/h5py/__init__.py:36: FutureWarning: Conversion of the second argument of issubdtype from `float` to `np.floating` is deprecated. In future, it will be treated as `np.float64 == np.dtype(float).type`.\n",
      "  from ._conv import register_converters as _register_converters\n"
     ]
    },
    {
     "name": "stdout",
     "output_type": "stream",
     "text": [
      "foo/v:0\n",
      "foo/w:0\n",
      "foo/v:0\n",
      "foo/w:0\n"
     ]
    }
   ],
   "source": [
    "import tensorflow as tf\n",
    "\n",
    "with tf.variable_scope(\"foo\") as foo_scope:\n",
    "    v = tf.get_variable(\"v\", [1])\n",
    "    \n",
    "with tf.variable_scope(foo_scope):\n",
    "    w = tf.get_variable(\"w\", [1])\n",
    "    \n",
    "with tf.variable_scope(foo_scope, reuse=True):\n",
    "    v1 = tf.get_variable(\"v\", [1])\n",
    "    w1 = tf.get_variable(\"w\", [1])\n",
    "    \n",
    "assert v1 == v\n",
    "assert w1 == w\n",
    "\n",
    "print(v.name)\n",
    "print(w.name)\n",
    "print(v1.name)\n",
    "print(w1.name)"
   ]
  },
  {
   "cell_type": "code",
   "execution_count": 1,
   "metadata": {},
   "outputs": [
    {
     "name": "stderr",
     "output_type": "stream",
     "text": [
      "/Users/sungchul/anaconda/lib/python3.5/importlib/_bootstrap.py:222: RuntimeWarning: compiletime version 3.6 of module 'tensorflow.python.framework.fast_tensor_util' does not match runtime version 3.5\n",
      "  return f(*args, **kwds)\n",
      "/Users/sungchul/anaconda/lib/python3.5/site-packages/h5py/__init__.py:36: FutureWarning: Conversion of the second argument of issubdtype from `float` to `np.floating` is deprecated. In future, it will be treated as `np.float64 == np.dtype(float).type`.\n",
      "  from ._conv import register_converters as _register_converters\n"
     ]
    },
    {
     "name": "stdout",
     "output_type": "stream",
     "text": [
      "foo\n",
      "bar/baz\n"
     ]
    }
   ],
   "source": [
    "import tensorflow as tf\n",
    "\n",
    "with tf.variable_scope(\"foo\") as foo_scope:    \n",
    "    print(foo_scope.name) # foo\n",
    "    \n",
    "with tf.variable_scope(\"bar\"):\n",
    "    with tf.variable_scope(\"baz\") as other_scope:\n",
    "        print(other_scope.name) # bar/baz"
   ]
  },
  {
   "cell_type": "code",
   "execution_count": 1,
   "metadata": {},
   "outputs": [
    {
     "name": "stderr",
     "output_type": "stream",
     "text": [
      "/Users/sungchul/anaconda/lib/python3.5/importlib/_bootstrap.py:222: RuntimeWarning: compiletime version 3.6 of module 'tensorflow.python.framework.fast_tensor_util' does not match runtime version 3.5\n",
      "  return f(*args, **kwds)\n",
      "/Users/sungchul/anaconda/lib/python3.5/site-packages/h5py/__init__.py:36: FutureWarning: Conversion of the second argument of issubdtype from `float` to `np.floating` is deprecated. In future, it will be treated as `np.float64 == np.dtype(float).type`.\n",
      "  from ._conv import register_converters as _register_converters\n"
     ]
    },
    {
     "name": "stdout",
     "output_type": "stream",
     "text": [
      "foo\n",
      "foo\n"
     ]
    }
   ],
   "source": [
    "import tensorflow as tf\n",
    "\n",
    "with tf.variable_scope(\"foo\") as foo_scope:\n",
    "    print(foo_scope.name)\n",
    "    \n",
    "with tf.variable_scope(\"bar\"):\n",
    "    with tf.variable_scope(\"baz\") as other_scope:\n",
    "        with tf.variable_scope(foo_scope) as foo_scope2:\n",
    "            print(foo_scope2.name) # foo\"  "
   ]
  },
  {
   "cell_type": "code",
   "execution_count": null,
   "metadata": {},
   "outputs": [],
   "source": []
  }
 ],
 "metadata": {
  "kernelspec": {
   "display_name": "Python [conda env:anaconda]",
   "language": "python",
   "name": "conda-env-anaconda-py"
  },
  "language_info": {
   "codemirror_mode": {
    "name": "ipython",
    "version": 3
   },
   "file_extension": ".py",
   "mimetype": "text/x-python",
   "name": "python",
   "nbconvert_exporter": "python",
   "pygments_lexer": "ipython3",
   "version": "3.5.5"
  }
 },
 "nbformat": 4,
 "nbformat_minor": 2
}
